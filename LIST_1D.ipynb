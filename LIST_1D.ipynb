{
  "nbformat": 4,
  "nbformat_minor": 0,
  "metadata": {
    "colab": {
      "provenance": [],
      "authorship_tag": "ABX9TyPWOkk+8k46Req+OKuS0cLt",
      "include_colab_link": true
    },
    "kernelspec": {
      "name": "python3",
      "display_name": "Python 3"
    },
    "language_info": {
      "name": "python"
    }
  },
  "cells": [
    {
      "cell_type": "markdown",
      "metadata": {
        "id": "view-in-github",
        "colab_type": "text"
      },
      "source": [
        "<a href=\"https://colab.research.google.com/github/knagabharathi/Python/blob/main/LIST_1D.ipynb\" target=\"_parent\"><img src=\"https://colab.research.google.com/assets/colab-badge.svg\" alt=\"Open In Colab\"/></a>"
      ]
    },
    {
      "cell_type": "code",
      "source": [
        "#CRUD\n",
        "\n",
        "#CREATE\n",
        "#print(x)\n",
        "'''\n",
        "append - add a single value at last\n",
        "insert - add value at any where in between(so move other values to new index so - Costliest operation)\n",
        "Extend - add multiple values\n",
        "'''\n",
        "\n",
        "#x.append (80)\n",
        "#x.insert(1,90)\n",
        "#x.extend(20,30,40)\n",
        "\n",
        "print(x)"
      ],
      "metadata": {
        "colab": {
          "base_uri": "https://localhost:8080/"
        },
        "id": "OOIAz5FwM2L2",
        "outputId": "dfbaf078-8aa3-4b33-ace9-75b3ed682b1b"
      },
      "execution_count": 6,
      "outputs": [
        {
          "output_type": "stream",
          "name": "stdout",
          "text": [
            "['2', '3', '4', '5', '6']\n"
          ]
        }
      ]
    },
    {
      "cell_type": "code",
      "source": [
        "#Delete\n",
        "\n",
        "'''\n",
        "pop - remove the value Return the value (Becoz we dont know what we are going to remove )(Access the value - it returs)\n",
        "Remove - Only remove first occurance of that value\n",
        "'''\n",
        "\n",
        "a= x.pop()\n",
        "print(a)   # delete the last value if nothing given\n",
        "\n",
        "a = x.pop(3) # delete the third value using index\n",
        "\n",
        "x.remove(30)  # delete the first 30 occurance\n",
        "\n",
        "x.remove()"
      ],
      "metadata": {
        "colab": {
          "base_uri": "https://localhost:8080/"
        },
        "id": "trttibnFNRIZ",
        "outputId": "7653142a-0330-4a37-b98f-55c6bcb62660"
      },
      "execution_count": 34,
      "outputs": [
        {
          "output_type": "stream",
          "name": "stdout",
          "text": [
            "80\n"
          ]
        }
      ]
    },
    {
      "cell_type": "code",
      "execution_count": null,
      "metadata": {
        "id": "PDVZ4DeYIOFG"
      },
      "outputs": [],
      "source": [
        "#LIST\n",
        "\n",
        "''' Question 1 - runs_virat = [67, 54, 12, 34, 77, 89, 101, 120] In runs_virat ->\n",
        "Calculate, sum, avg, max and min runs.\n",
        "Without using any internal functions. You can use the length function. '''"
      ]
    },
    {
      "cell_type": "code",
      "source": [
        "def length(a):\n",
        "  cnt = 0\n",
        "\n",
        "  for i in a:\n",
        "    cnt+=1\n",
        "  return cnt\n",
        "\n",
        "x = [10,20,30,40,50,60,70,80]\n",
        "length(x)"
      ],
      "metadata": {
        "colab": {
          "base_uri": "https://localhost:8080/"
        },
        "id": "Sx9_GR_rIdaz",
        "outputId": "196fb1e1-17c7-4dcf-d901-1384e834f0dc"
      },
      "execution_count": 4,
      "outputs": [
        {
          "output_type": "execute_result",
          "data": {
            "text/plain": [
              "8"
            ]
          },
          "metadata": {},
          "execution_count": 4
        }
      ]
    },
    {
      "cell_type": "code",
      "source": [
        "def sum_val(a):\n",
        "  sum = 0\n",
        "  for i in a:\n",
        "    sum += i\n",
        "  return sum\n",
        "\n",
        "s = sum_val(x)\n",
        "print(s)"
      ],
      "metadata": {
        "colab": {
          "base_uri": "https://localhost:8080/"
        },
        "id": "_mgXz1NyI7EW",
        "outputId": "c2ebfb6f-a771-4393-bbcc-805ac6d90fda"
      },
      "execution_count": 6,
      "outputs": [
        {
          "output_type": "stream",
          "name": "stdout",
          "text": [
            "360\n"
          ]
        }
      ]
    },
    {
      "cell_type": "code",
      "source": [
        "def max_val(a):\n",
        "  x = a[0]\n",
        "  l = length(a)\n",
        "\n",
        "  for i in range(1,l):\n",
        "    if a[i] > x:\n",
        "      x = a[i]\n",
        "\n",
        "  return x\n",
        "\n",
        "print(max_val(x))\n"
      ],
      "metadata": {
        "colab": {
          "base_uri": "https://localhost:8080/"
        },
        "id": "HNBOMBfHKJQw",
        "outputId": "50a3a83d-64a1-4215-eeda-a690687abec8"
      },
      "execution_count": 23,
      "outputs": [
        {
          "output_type": "stream",
          "name": "stdout",
          "text": [
            "80\n"
          ]
        }
      ]
    },
    {
      "cell_type": "code",
      "source": [
        "def min_val(a):\n",
        "  l = length(a)\n",
        "  min = a[0]\n",
        "  for i in range(1,l):\n",
        "    if a[i] < min:\n",
        "      min = a[i]\n",
        "  return min\n",
        "\n",
        "print(min_val(x))"
      ],
      "metadata": {
        "colab": {
          "base_uri": "https://localhost:8080/"
        },
        "id": "2-5rVUTzLe93",
        "outputId": "afbb1445-f701-407e-9bcb-0184cfbef97b"
      },
      "execution_count": 18,
      "outputs": [
        {
          "output_type": "stream",
          "name": "stdout",
          "text": [
            "10\n"
          ]
        }
      ]
    },
    {
      "cell_type": "code",
      "source": [
        "def avg_val(a):\n",
        "  l = length(a)\n",
        "  s = sum_val(a)\n",
        "  avg= s/l\n",
        "  return avg\n",
        "\n",
        "\n",
        "print(avg_val(x))"
      ],
      "metadata": {
        "colab": {
          "base_uri": "https://localhost:8080/"
        },
        "id": "4u9hjVqKLDtO",
        "outputId": "02663cce-e8f8-4606-8925-2731ed7447db"
      },
      "execution_count": 15,
      "outputs": [
        {
          "output_type": "stream",
          "name": "stdout",
          "text": [
            "45.0\n"
          ]
        }
      ]
    },
    {
      "cell_type": "code",
      "source": [
        "\n",
        "l = length(x)\n",
        "s = sum_val(x)\n",
        "a = avg_val(x)\n",
        "mx= max_val(x)\n",
        "mn = min_val(x)\n",
        "\n",
        "print('length of list ',l)\n",
        "\n",
        "print('sum of list ',s)\n",
        "\n",
        "print('avg of list ',a)\n",
        "\n",
        "print('Max of list ',mx)\n",
        "\n",
        "print('Min of list ',mn)\n"
      ],
      "metadata": {
        "colab": {
          "base_uri": "https://localhost:8080/"
        },
        "id": "v2lq9CHLMxvG",
        "outputId": "cd10ea9d-e9b1-47d4-d1a3-a64acfa15938"
      },
      "execution_count": 25,
      "outputs": [
        {
          "output_type": "stream",
          "name": "stdout",
          "text": [
            "length of list  8\n",
            "sum of list  360\n",
            "avg of list  45.0\n",
            "Max of list  80\n",
            "Min of list  10\n"
          ]
        }
      ]
    },
    {
      "cell_type": "code",
      "source": [
        "a = input()\n",
        "x = a.split(\" \")\n",
        "\n",
        "\n",
        "\n",
        "print(len(x))"
      ],
      "metadata": {
        "colab": {
          "base_uri": "https://localhost:8080/"
        },
        "id": "45ToSXtI74Vu",
        "outputId": "46a11c77-03d1-41d8-e24b-864588ad797a"
      },
      "execution_count": 5,
      "outputs": [
        {
          "output_type": "stream",
          "name": "stdout",
          "text": [
            "2 3 4 5 6\n",
            "5\n"
          ]
        }
      ]
    }
  ]
}