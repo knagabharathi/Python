{
  "nbformat": 4,
  "nbformat_minor": 0,
  "metadata": {
    "colab": {
      "provenance": [],
      "authorship_tag": "ABX9TyMU63bfoZyBEhJ+CoQiNqvq",
      "include_colab_link": true
    },
    "kernelspec": {
      "name": "python3",
      "display_name": "Python 3"
    },
    "language_info": {
      "name": "python"
    }
  },
  "cells": [
    {
      "cell_type": "markdown",
      "metadata": {
        "id": "view-in-github",
        "colab_type": "text"
      },
      "source": [
        "<a href=\"https://colab.research.google.com/github/knagabharathi/Python/blob/main/LIST_2D.ipynb\" target=\"_parent\"><img src=\"https://colab.research.google.com/assets/colab-badge.svg\" alt=\"Open In Colab\"/></a>"
      ]
    },
    {
      "cell_type": "code",
      "execution_count": 2,
      "metadata": {
        "colab": {
          "base_uri": "https://localhost:8080/"
        },
        "id": "ucw0EXeNX72d",
        "outputId": "b5de1c90-cc11-4da8-eef0-ca6463ed46bc"
      },
      "outputs": [
        {
          "output_type": "stream",
          "name": "stdout",
          "text": [
            "([1, 2, 3], [4, 5, 6], [7, 8, 9])\n"
          ]
        }
      ],
      "source": [
        "A = [1,2,3] ,[4,5,6] ,[7,8,9]\n",
        "print(A)\n"
      ]
    },
    {
      "cell_type": "code",
      "source": [
        "def ret(A):\n",
        "  x = []\n",
        "  m = 0\n",
        "  row = len(A)\n",
        "  col = len(A[0])\n",
        "\n",
        "  for i in range(row):\n",
        "    for j in range(col):\n",
        "      m += A[i][j]\n",
        "    x.append(m)\n",
        "    m = 0\n",
        "  return x\n",
        "\n",
        "A = [1,2,3] ,[4,5,6] ,[7,8,9]\n",
        "ret(A)"
      ],
      "metadata": {
        "colab": {
          "base_uri": "https://localhost:8080/"
        },
        "id": "x8VT6SGVYURW",
        "outputId": "4a3e56e6-5989-4cf2-eb44-dda08ea8ea25"
      },
      "execution_count": 10,
      "outputs": [
        {
          "output_type": "execute_result",
          "data": {
            "text/plain": [
              "[6, 15, 24]"
            ]
          },
          "metadata": {},
          "execution_count": 10
        }
      ]
    },
    {
      "cell_type": "code",
      "source": [
        "A = [1,2,3] ,[4,5,6] ,[7,8,9]\n",
        "B = [1,2,3] ,[4,5,6] ,[7,8,9]\n",
        "\n",
        "row = len(A)\n",
        "col = len(A[0])\n",
        "m =[]\n",
        "l = []\n",
        "for i in range(row):\n",
        "  for j in range(col):\n",
        "    x = A[i][j]+B[i][j]\n",
        "    m.append(x)\n",
        "  l.append(m)\n",
        "  m = []\n",
        "print(l)"
      ],
      "metadata": {
        "colab": {
          "base_uri": "https://localhost:8080/"
        },
        "id": "9CYBX9VWZmrL",
        "outputId": "cc38a2f6-d347-46ba-d82c-3a0728a0e0e0"
      },
      "execution_count": 16,
      "outputs": [
        {
          "output_type": "stream",
          "name": "stdout",
          "text": [
            "[[2, 4, 6], [8, 10, 12], [14, 16, 18]]\n"
          ]
        }
      ]
    },
    {
      "cell_type": "code",
      "source": [
        "A = [1,2,3] ,[4,5,6] ,[7,8,9]\n",
        "m = []\n",
        "for i in A:\n",
        "  x = max(i)\n",
        "  m.append(x)\n",
        "print(m)"
      ],
      "metadata": {
        "colab": {
          "base_uri": "https://localhost:8080/"
        },
        "id": "bAJ0gZ_Fcm4i",
        "outputId": "3569505a-b932-4238-b5dc-14af514a511c"
      },
      "execution_count": 19,
      "outputs": [
        {
          "output_type": "stream",
          "name": "stdout",
          "text": [
            "[3, 6, 9]\n"
          ]
        }
      ]
    },
    {
      "cell_type": "code",
      "source": [
        "A = [1,2,3] ,[4,5,6] ,[7,8,9]\n",
        "x=[]\n",
        "m = 0\n",
        "\n",
        "row = len(A)\n",
        "col = len(A[0])\n",
        "for i in range(row):\n",
        "  for j in range(col):\n",
        "    m +=  A[i][j]\n",
        "  x.append(m)\n",
        "  m = 0\n",
        "\n",
        "l= 0\n",
        "for j in range(col):\n",
        "  for i in range(row):\n",
        "    l += A[i][j]\n",
        "  x.append(l)\n",
        "  l = 0\n",
        "\n",
        "print(x)"
      ],
      "metadata": {
        "colab": {
          "base_uri": "https://localhost:8080/"
        },
        "id": "x-KA3Nr6dzhJ",
        "outputId": "1ccb209a-8344-41e1-8db9-e31910644c44"
      },
      "execution_count": 24,
      "outputs": [
        {
          "output_type": "stream",
          "name": "stdout",
          "text": [
            "[6, 15, 24, 12, 15, 18]\n"
          ]
        }
      ]
    },
    {
      "cell_type": "code",
      "source": [
        "A = [1,2,3] ,[4,5,6] ,[7,8,9]\n",
        "def trans(A):\n",
        "  m = []\n",
        "  for i in range(len(A)):\n",
        "    x = [0]*len(A)\n",
        "    m.append(x)\n",
        "\n",
        "  row= len(A)\n",
        "  col = len(A[0])\n",
        "  for i in range(row):\n",
        "    for j in range(col):\n",
        "      m[j][i]= A[i][j]\n",
        "\n",
        "  return(m)"
      ],
      "metadata": {
        "id": "vO2ZwgwjfsJJ"
      },
      "execution_count": 34,
      "outputs": []
    },
    {
      "cell_type": "code",
      "source": [
        "A =[[1, 1, 1], [2, 2, 2]]\n",
        "\n",
        "row = len(A)\n",
        "col = len(A[0])\n",
        "m = []\n",
        "for i in range(col):\n",
        "  x = [0]*row\n",
        "  m.append(x)\n",
        "\n",
        "for i in range(col):\n",
        "  for j in range(row):\n",
        "    m[i][j] = A [j][i]\n",
        "\n",
        "print(m)\n",
        "#print(A, row , col)"
      ],
      "metadata": {
        "colab": {
          "base_uri": "https://localhost:8080/"
        },
        "id": "VG1V-SnXhsWH",
        "outputId": "ab2f59da-5227-4d7a-f97e-b2cf7ca2f05f"
      },
      "execution_count": 16,
      "outputs": [
        {
          "output_type": "stream",
          "name": "stdout",
          "text": [
            "[[1, 2], [1, 2], [1, 2]]\n"
          ]
        }
      ]
    }
  ]
}