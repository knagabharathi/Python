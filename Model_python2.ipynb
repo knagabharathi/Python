{
  "nbformat": 4,
  "nbformat_minor": 0,
  "metadata": {
    "colab": {
      "provenance": [],
      "authorship_tag": "ABX9TyO2ySlFhhLBOY5msRxhISAC",
      "include_colab_link": true
    },
    "kernelspec": {
      "name": "python3",
      "display_name": "Python 3"
    },
    "language_info": {
      "name": "python"
    }
  },
  "cells": [
    {
      "cell_type": "markdown",
      "metadata": {
        "id": "view-in-github",
        "colab_type": "text"
      },
      "source": [
        "<a href=\"https://colab.research.google.com/github/knagabharathi/Python/blob/main/Model_python2.ipynb\" target=\"_parent\"><img src=\"https://colab.research.google.com/assets/colab-badge.svg\" alt=\"Open In Colab\"/></a>"
      ]
    },
    {
      "cell_type": "code",
      "execution_count": 12,
      "metadata": {
        "colab": {
          "base_uri": "https://localhost:8080/"
        },
        "id": "iVQs-IOZdYCs",
        "outputId": "c73866a8-4435-4de9-e017-595ff28430d0"
      },
      "outputs": [
        {
          "output_type": "execute_result",
          "data": {
            "text/plain": [
              "4"
            ]
          },
          "metadata": {},
          "execution_count": 12
        }
      ],
      "source": [
        "\n",
        "def max_cn(x):\n",
        "  max_cnt= 0\n",
        "\n",
        "  for i in x:\n",
        "    if max_cnt < i.count(1):\n",
        "      max_cnt = i.count(1)\n",
        "  for j in range(len(x)):\n",
        "    if max_cnt == x[j].count(1):\n",
        "      return j\n",
        "\n",
        "x = [[0,1,1,1],[1,1,1,0],[0,1,0,0],[1,1,1,0],[1,1,1,1]]\n",
        "max_cn(x)"
      ]
    },
    {
      "cell_type": "code",
      "source": [],
      "metadata": {
        "id": "L48dLrbWg1_i"
      },
      "execution_count": null,
      "outputs": []
    },
    {
      "cell_type": "code",
      "source": [
        "\n",
        "\n",
        "def rep(a):\n",
        "  l = []\n",
        "  for i in a:\n",
        "    if len(i) == len(set(i)):\n",
        "      l.append(i)\n",
        "  return l\n",
        "\n",
        "a = ['hello', 'world', 'python']\n",
        "rep(a)"
      ],
      "metadata": {
        "colab": {
          "base_uri": "https://localhost:8080/"
        },
        "id": "VaaOcUQEg2Ob",
        "outputId": "6ad39f76-674b-416e-92eb-730aab7d6b9d"
      },
      "execution_count": 15,
      "outputs": [
        {
          "output_type": "execute_result",
          "data": {
            "text/plain": [
              "['world', 'python']"
            ]
          },
          "metadata": {},
          "execution_count": 15
        }
      ]
    },
    {
      "cell_type": "code",
      "source": [
        "def main(a):\n",
        "    if a >= 195:\n",
        "        print(\"abnormal\")\n",
        "    elif  a>= 165 and a< 195 :\n",
        "        print(\"taller\")\n",
        "    elif a>= 150 and a<165:\n",
        "        print(\"average\")\n",
        "    elif a< 150:\n",
        "        print(\"dwarf\")\n",
        "\n",
        "\n",
        "main(198)"
      ],
      "metadata": {
        "colab": {
          "base_uri": "https://localhost:8080/"
        },
        "id": "S0kugQrqjFSF",
        "outputId": "3386b5dc-136e-42d7-ae3b-ef973a6db439"
      },
      "execution_count": 37,
      "outputs": [
        {
          "output_type": "stream",
          "name": "stdout",
          "text": [
            "abnormal\n"
          ]
        }
      ]
    },
    {
      "cell_type": "code",
      "source": [
        "x = int(input())\n",
        "y = int(input())\n",
        "flag = True\n",
        "\n",
        "for i in range(2,x+1): # 2,3,4\n",
        "  if (x%i == 0 ):\n",
        "    if (y%i == 0):\n",
        "      flag =\n",
        "print(flag)"
      ],
      "metadata": {
        "colab": {
          "base_uri": "https://localhost:8080/"
        },
        "id": "1fEk6fTBkAw9",
        "outputId": "f0447377-7cc2-4dff-8a6c-76664ed4c7e5"
      },
      "execution_count": 39,
      "outputs": [
        {
          "output_type": "stream",
          "name": "stdout",
          "text": [
            "11\n",
            "11\n",
            "False\n"
          ]
        }
      ]
    },
    {
      "cell_type": "code",
      "source": [
        "people = [('A',25),('B',32),('C',20),('D',40)]\n",
        "\n",
        "old_name = \"\"\n",
        "old_age = 0\n",
        "\n",
        "for name,age in people :\n",
        "  if age > old_age:\n",
        "    old_name = name\n",
        "    old_age = age\n",
        "\n",
        "print(\"The old person is\",old_name)"
      ],
      "metadata": {
        "colab": {
          "base_uri": "https://localhost:8080/"
        },
        "id": "yjCTSBf-mg7a",
        "outputId": "ed3fdd47-b34f-4f14-af79-b8c9aaf93783"
      },
      "execution_count": 28,
      "outputs": [
        {
          "output_type": "stream",
          "name": "stdout",
          "text": [
            "The old person is D\n"
          ]
        }
      ]
    },
    {
      "cell_type": "code",
      "source": [
        "old_name = \"Raj\"\n",
        "old_age = None\n",
        "\n",
        "for name,age in people :\n",
        "  if age > old_age:\n",
        "    old_name = name\n",
        "    old_age = age\n",
        "\n",
        "print(\"The old person is\",old_name)"
      ],
      "metadata": {
        "colab": {
          "base_uri": "https://localhost:8080/",
          "height": 235
        },
        "id": "HNbBmR0rnqfJ",
        "outputId": "55957f71-03e1-4c54-fcb2-b6704396c895"
      },
      "execution_count": 29,
      "outputs": [
        {
          "output_type": "error",
          "ename": "TypeError",
          "evalue": "ignored",
          "traceback": [
            "\u001b[0;31m---------------------------------------------------------------------------\u001b[0m",
            "\u001b[0;31mTypeError\u001b[0m                                 Traceback (most recent call last)",
            "\u001b[0;32m<ipython-input-29-cae8ef868028>\u001b[0m in \u001b[0;36m<cell line: 4>\u001b[0;34m()\u001b[0m\n\u001b[1;32m      3\u001b[0m \u001b[0;34m\u001b[0m\u001b[0m\n\u001b[1;32m      4\u001b[0m \u001b[0;32mfor\u001b[0m \u001b[0mname\u001b[0m\u001b[0;34m,\u001b[0m\u001b[0mage\u001b[0m \u001b[0;32min\u001b[0m \u001b[0mpeople\u001b[0m \u001b[0;34m:\u001b[0m\u001b[0;34m\u001b[0m\u001b[0;34m\u001b[0m\u001b[0m\n\u001b[0;32m----> 5\u001b[0;31m   \u001b[0;32mif\u001b[0m \u001b[0mage\u001b[0m \u001b[0;34m>\u001b[0m \u001b[0mold_age\u001b[0m\u001b[0;34m:\u001b[0m\u001b[0;34m\u001b[0m\u001b[0;34m\u001b[0m\u001b[0m\n\u001b[0m\u001b[1;32m      6\u001b[0m     \u001b[0mold_name\u001b[0m \u001b[0;34m=\u001b[0m \u001b[0mname\u001b[0m\u001b[0;34m\u001b[0m\u001b[0;34m\u001b[0m\u001b[0m\n\u001b[1;32m      7\u001b[0m     \u001b[0mold_age\u001b[0m \u001b[0;34m=\u001b[0m \u001b[0mage\u001b[0m\u001b[0;34m\u001b[0m\u001b[0;34m\u001b[0m\u001b[0m\n",
            "\u001b[0;31mTypeError\u001b[0m: '>' not supported between instances of 'int' and 'NoneType'"
          ]
        }
      ]
    },
    {
      "cell_type": "code",
      "source": [
        "isTrue = -20\n",
        "if bool(isTrue):\n",
        "  print(\"Inside the if-statement\")\n",
        "else:\n",
        "  print(\"Inside the else-statement\")"
      ],
      "metadata": {
        "colab": {
          "base_uri": "https://localhost:8080/"
        },
        "id": "17-YCd68n9TC",
        "outputId": "e00401be-6d81-4f6e-ff88-525e0cc8b1c2"
      },
      "execution_count": 36,
      "outputs": [
        {
          "output_type": "stream",
          "name": "stdout",
          "text": [
            "Inside the if-statement\n"
          ]
        }
      ]
    }
  ]
}