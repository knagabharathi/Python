{
  "nbformat": 4,
  "nbformat_minor": 0,
  "metadata": {
    "colab": {
      "provenance": [],
      "authorship_tag": "ABX9TyOHV3N4cvPzleYC+Hmbk/BM",
      "include_colab_link": true
    },
    "kernelspec": {
      "name": "python3",
      "display_name": "Python 3"
    },
    "language_info": {
      "name": "python"
    }
  },
  "cells": [
    {
      "cell_type": "markdown",
      "metadata": {
        "id": "view-in-github",
        "colab_type": "text"
      },
      "source": [
        "<a href=\"https://colab.research.google.com/github/knagabharathi/Python/blob/main/Numpy1.ipynb\" target=\"_parent\"><img src=\"https://colab.research.google.com/assets/colab-badge.svg\" alt=\"Open In Colab\"/></a>"
      ]
    },
    {
      "cell_type": "code",
      "execution_count": 2,
      "metadata": {
        "colab": {
          "base_uri": "https://localhost:8080/"
        },
        "id": "6FbRbeLWmJVf",
        "outputId": "bf804c8b-b6e5-4826-e98e-a170c528e38c"
      },
      "outputs": [
        {
          "output_type": "stream",
          "name": "stdout",
          "text": [
            "Requirement already satisfied: numpy in /usr/local/lib/python3.10/dist-packages (1.22.4)\n"
          ]
        }
      ],
      "source": [
        "!pip install numpy\n"
      ]
    },
    {
      "cell_type": "code",
      "source": [
        "import numpy as np\n",
        "\n",
        "np.arange(22,71,2)\n",
        "np.arange(21,72,2)"
      ],
      "metadata": {
        "colab": {
          "base_uri": "https://localhost:8080/"
        },
        "id": "QzJScgohnLlA",
        "outputId": "990e7112-dc84-4c0a-a7ac-31b1d876f30f"
      },
      "execution_count": 3,
      "outputs": [
        {
          "output_type": "execute_result",
          "data": {
            "text/plain": [
              "array([21, 23, 25, 27, 29, 31, 33, 35, 37, 39, 41, 43, 45, 47, 49, 51, 53,\n",
              "       55, 57, 59, 61, 63, 65, 67, 69, 71])"
            ]
          },
          "metadata": {},
          "execution_count": 3
        }
      ]
    },
    {
      "cell_type": "code",
      "source": [
        "import numpy as np\n",
        "\n",
        "arr = np.array([10, 20, 30, 40, 50])\n",
        "#float(arr)\n",
        "#arr.tofloat()\n",
        "arr.astype('float64')\n",
        "#type(arr, dtype='float64')"
      ],
      "metadata": {
        "colab": {
          "base_uri": "https://localhost:8080/"
        },
        "id": "KHhADM8vM59U",
        "outputId": "5b8eec8e-54d5-4831-e414-bb5a604933b4"
      },
      "execution_count": 8,
      "outputs": [
        {
          "output_type": "execute_result",
          "data": {
            "text/plain": [
              "array([10., 20., 30., 40., 50.])"
            ]
          },
          "metadata": {},
          "execution_count": 8
        }
      ]
    },
    {
      "cell_type": "code",
      "source": [
        "import numpy as np\n",
        "\n",
        "arr = np.array([1, 2, 3, 4])\n",
        "\n",
        "print(arr[2] + arr[-2])"
      ],
      "metadata": {
        "colab": {
          "base_uri": "https://localhost:8080/"
        },
        "id": "QVe4pHECNWgf",
        "outputId": "183975e3-4113-4e7a-db5b-724da97eb706"
      },
      "execution_count": 9,
      "outputs": [
        {
          "output_type": "stream",
          "name": "stdout",
          "text": [
            "6\n"
          ]
        }
      ]
    },
    {
      "cell_type": "code",
      "source": [
        "import numpy as np\n",
        "\n",
        "a = np.arange(10)\n",
        "\n",
        "print(a[2:5])\n",
        "a"
      ],
      "metadata": {
        "colab": {
          "base_uri": "https://localhost:8080/"
        },
        "id": "ZEScjQO9NhyA",
        "outputId": "e856ec41-f213-4be3-f634-4e0a54b9dc1d"
      },
      "execution_count": 11,
      "outputs": [
        {
          "output_type": "stream",
          "name": "stdout",
          "text": [
            "[2 3 4]\n"
          ]
        },
        {
          "output_type": "execute_result",
          "data": {
            "text/plain": [
              "array([0, 1, 2, 3, 4, 5, 6, 7, 8, 9])"
            ]
          },
          "metadata": {},
          "execution_count": 11
        }
      ]
    },
    {
      "cell_type": "code",
      "source": [
        "import numpy as np\n",
        "np.arange(1,20,2)\n",
        "np.arange(20,0,-2)\n",
        "\n",
        "res = np.multiply(np.arange(20,0,-2), np.arange(1,20,2))\n",
        "res\n",
        "print(np.subtract(np.max(res),np.min(res)))"
      ],
      "metadata": {
        "colab": {
          "base_uri": "https://localhost:8080/"
        },
        "id": "Up6UXTeP5pR9",
        "outputId": "589ff440-936d-44e1-a174-56d12305df13"
      },
      "execution_count": 5,
      "outputs": [
        {
          "output_type": "stream",
          "name": "stdout",
          "text": [
            "90\n"
          ]
        }
      ]
    },
    {
      "cell_type": "code",
      "source": [
        "\n",
        "np.size([0,1,2,3,4,5])\n",
        "arr= np.array([0,1,2,3,4,5])\n",
        "print(arr.shape)\n",
        "\n",
        "print(arr.ndim)"
      ],
      "metadata": {
        "colab": {
          "base_uri": "https://localhost:8080/"
        },
        "id": "wHfxKqfD6Dxp",
        "outputId": "89787274-67ed-46b3-a440-2383aeb318f7"
      },
      "execution_count": 17,
      "outputs": [
        {
          "output_type": "stream",
          "name": "stdout",
          "text": [
            "(6,)\n",
            "1\n"
          ]
        }
      ]
    },
    {
      "cell_type": "code",
      "source": [
        "import numpy as np\n",
        "arr= [-2, -1, 0, 1, 2]\n",
        "x = np.array(arr)\n",
        "z = np.exp(-x)\n",
        "\n",
        "denom = 1+z\n",
        "\n",
        "result = 1/denom\n",
        "result\n",
        "\n",
        "result = np.round(result,decimals=2 )\n",
        "result"
      ],
      "metadata": {
        "colab": {
          "base_uri": "https://localhost:8080/"
        },
        "id": "tmJ3GmdH-ZYq",
        "outputId": "38c1a983-cb08-4c53-92c6-a29254c4a859"
      },
      "execution_count": 28,
      "outputs": [
        {
          "output_type": "execute_result",
          "data": {
            "text/plain": [
              "array([0.12, 0.27, 0.5 , 0.73, 0.88])"
            ]
          },
          "metadata": {},
          "execution_count": 28
        }
      ]
    },
    {
      "cell_type": "code",
      "source": [
        "import numpy as np\n",
        "\n",
        "def create_seq(start, end, step):\n",
        "\n",
        "    arr = np.arange(start,end,step)\n",
        "    x = np.round(arr, decimals=2)\n",
        "\n",
        "    return x\n",
        "\n",
        "create_seq(5,7,0.5)"
      ],
      "metadata": {
        "colab": {
          "base_uri": "https://localhost:8080/"
        },
        "id": "YtHyB_F6K45f",
        "outputId": "1a81bc81-5a11-43fd-9713-5c029dffcafd"
      },
      "execution_count": 3,
      "outputs": [
        {
          "output_type": "execute_result",
          "data": {
            "text/plain": [
              "array([5. , 5.5, 6. , 6.5])"
            ]
          },
          "metadata": {},
          "execution_count": 3
        }
      ]
    },
    {
      "cell_type": "code",
      "source": [
        "birds = ['spoonbills',  'plovers',  'plovers',  'plovers',  'plovers',  'Cranes',  'plovers',  'plovers',  'Cranes',  'spoonbills']\n",
        "age = [5.5, 6.0, 3.5, 1.5, 3.0, 4.0, 3.5, 2.0, 5.5, 6.0]\n",
        "\n",
        "import numpy as np\n",
        "x=[]\n",
        "for b,a in zip(birds,age):\n",
        "  if b == 'Cranes':\n",
        "    x.append(a)\n",
        "\n",
        "l = np.array(x)\n",
        "summ = np.mean(l)\n",
        "summ"
      ],
      "metadata": {
        "colab": {
          "base_uri": "https://localhost:8080/"
        },
        "id": "afusLxx9taMy",
        "outputId": "65dd7d45-35c5-4e0e-c786-d942fc11fdc5"
      },
      "execution_count": 4,
      "outputs": [
        {
          "output_type": "execute_result",
          "data": {
            "text/plain": [
              "4.75"
            ]
          },
          "metadata": {},
          "execution_count": 4
        }
      ]
    },
    {
      "cell_type": "code",
      "source": [
        "\n",
        "\n",
        "def comm(birds,age):\n",
        "  com = sorted(zip(age,birds))\n",
        "  com\n",
        "\n",
        "  a,b = zip(*com)\n",
        "  return list(b)\n",
        "\n",
        "birds = ['spoonbills',  'plovers',  'plovers',  'plovers',  'plovers',  'Cranes',  'plovers',  'plovers',  'Cranes',  'spoonbills']\n",
        "age = [5.5, 6.0, 3.5, 1.5, 3.0, 4.0, 3.5, 2.0, 5.5, 6.0]\n",
        "comm(birds,age)"
      ],
      "metadata": {
        "colab": {
          "base_uri": "https://localhost:8080/"
        },
        "id": "UTm65Th6yaM6",
        "outputId": "45545817-e8b4-4ee1-ce34-9dab083e3873"
      },
      "execution_count": 22,
      "outputs": [
        {
          "output_type": "execute_result",
          "data": {
            "text/plain": [
              "['plovers',\n",
              " 'plovers',\n",
              " 'plovers',\n",
              " 'plovers',\n",
              " 'plovers',\n",
              " 'Cranes',\n",
              " 'Cranes',\n",
              " 'spoonbills',\n",
              " 'plovers',\n",
              " 'spoonbills']"
            ]
          },
          "metadata": {},
          "execution_count": 22
        }
      ]
    }
  ]
}