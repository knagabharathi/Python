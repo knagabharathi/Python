{
  "nbformat": 4,
  "nbformat_minor": 0,
  "metadata": {
    "colab": {
      "provenance": [],
      "authorship_tag": "ABX9TyPy6wSDPwWk5xz38hX7cLPx",
      "include_colab_link": true
    },
    "kernelspec": {
      "name": "python3",
      "display_name": "Python 3"
    },
    "language_info": {
      "name": "python"
    }
  },
  "cells": [
    {
      "cell_type": "markdown",
      "metadata": {
        "id": "view-in-github",
        "colab_type": "text"
      },
      "source": [
        "<a href=\"https://colab.research.google.com/github/knagabharathi/Python/blob/main/Prbm_solving_3.ipynb\" target=\"_parent\"><img src=\"https://colab.research.google.com/assets/colab-badge.svg\" alt=\"Open In Colab\"/></a>"
      ]
    },
    {
      "cell_type": "code",
      "execution_count": null,
      "metadata": {
        "id": "_8XRKZ7c2lVJ"
      },
      "outputs": [],
      "source": [
        "a = [1,2,3,4,5,6,7,8,9,10]\n",
        "b = 5.5\n"
      ]
    },
    {
      "cell_type": "code",
      "source": [
        "def anybasemultiplication(A,B,C):\n",
        "\n",
        "  def base_1(a,A):\n",
        "    x = 0\n",
        "    i=0\n",
        "    while a >0:\n",
        "      rem = a%10\n",
        "      x += rem *(A**i)\n",
        "      a //= 10\n",
        "      i += 1\n",
        "\n",
        "    return x\n",
        "\n",
        "  def base_2(a,A):\n",
        "    s =\"\"\n",
        "    while a > 0:\n",
        "      a,rem = divmod(a,A)\n",
        "      s = str(rem) +s\n",
        "\n",
        "    return s\n",
        "\n",
        "  l=[]\n",
        "  l.append(B)\n",
        "  l.append(C)\n",
        "  m =[]\n",
        "  for i in l:\n",
        "    z = base_1(i,A)\n",
        "    m.append(z)\n",
        "\n",
        "  n = 1\n",
        "  for k in m:\n",
        "    n *= k\n",
        "\n",
        "  z = base_2(n,A)\n",
        "  if z == '':\n",
        "    return 0\n",
        "  else:\n",
        "    return int(z)\n",
        "\n",
        "anybasemultiplication(6,10,0)"
      ],
      "metadata": {
        "id": "ekiKpzM6SXmS"
      },
      "execution_count": null,
      "outputs": []
    },
    {
      "cell_type": "code",
      "source": [
        "def AnyBaseAddition( A, B, C):\n",
        "\n",
        "\n",
        "        def base_1(a,A):\n",
        "            x = 0\n",
        "            i = 0\n",
        "            while a > 0:\n",
        "                rem = a%10\n",
        "                x += rem * (A**i)\n",
        "                a //= 10\n",
        "                i += 1\n",
        "            return x\n",
        "\n",
        "        def base_3(a):\n",
        "          b = \"\"\n",
        "          while a > 0:\n",
        "            a,rem = divmod(a,3)\n",
        "            b = str(rem) + b\n",
        "          return b\n",
        "\n",
        "\n",
        "        l =[]\n",
        "        l.append(B)\n",
        "        l.append(C)\n",
        "        m=[]\n",
        "\n",
        "        for i in l:\n",
        "            z = base_1(i,A)\n",
        "            m.append(z)\n",
        "\n",
        "        s= sum(m)\n",
        "        f = base_3(s)\n",
        "        return int(f)\n",
        "\n",
        "\n",
        "\n",
        "AnyBaseAddition(3,11,10)\n",
        "AnyBaseAddition(4,22,121)\n",
        "base_1(22,4) #10\n",
        "base_1(121,4) # 1(16)+2(4)+1 = 25\n",
        "\n",
        "base_3(35)"
      ],
      "metadata": {
        "id": "u8Xm_vPESZaT"
      },
      "execution_count": null,
      "outputs": []
    },
    {
      "cell_type": "code",
      "source": [
        "def ceil_floor(m,n):\n",
        "  x = []\n",
        "  for i in a:\n",
        "    if i == b:\n",
        "      ceil = b\n",
        "      floor = b\n",
        "      x.append(ceil)\n",
        "      x.append(floor)\n",
        "      return x\n",
        "\n",
        "  ceil = max(a)\n",
        "  floor = min(a)\n",
        "\n",
        "  for i in a:\n",
        "    if i < b and i > floor:\n",
        "      floor = i\n",
        "    elif i > b and i < ceil :\n",
        "      ceil = i\n",
        "  x.append(ceil)\n",
        "  x.append(floor)\n",
        "  return x"
      ],
      "metadata": {
        "id": "MqITUqpH2zjV"
      },
      "execution_count": null,
      "outputs": []
    },
    {
      "cell_type": "code",
      "source": [
        "ceil_floor(a,b)"
      ],
      "metadata": {
        "colab": {
          "base_uri": "https://localhost:8080/"
        },
        "id": "m4j8dYxZ6pfg",
        "outputId": "df8bb8ee-a206-40d3-b442-e3779215eeee"
      },
      "execution_count": null,
      "outputs": [
        {
          "output_type": "execute_result",
          "data": {
            "text/plain": [
              "[6, 5]"
            ]
          },
          "metadata": {},
          "execution_count": 7
        }
      ]
    },
    {
      "cell_type": "code",
      "source": [
        "a = [-2,-2,4,4,4,4,8,9]\n",
        "b = 4\n",
        "x = []\n",
        "s=[]\n",
        "for i in range(len(a)):\n",
        "  if a[i] == b:\n",
        "    x.append(i)\n",
        "s.append(max(x))\n",
        "s.append(min(x))\n",
        "print(s)"
      ],
      "metadata": {
        "colab": {
          "base_uri": "https://localhost:8080/"
        },
        "id": "P1tiCeuz7t3v",
        "outputId": "303ed615-e88d-47d3-d108-2c606a4f315a"
      },
      "execution_count": null,
      "outputs": [
        {
          "output_type": "stream",
          "name": "stdout",
          "text": [
            "[5, 2]\n"
          ]
        }
      ]
    },
    {
      "cell_type": "code",
      "source": [
        "a = [3,1,0,2]\n",
        "x = [0,0,0,0]\n",
        "for i in range(len(a)):\n",
        "  x[a[i]]=i\n",
        "print(x)\n",
        "\n"
      ],
      "metadata": {
        "colab": {
          "base_uri": "https://localhost:8080/"
        },
        "id": "MogL9Eg591CQ",
        "outputId": "913047ee-2dec-4f41-8731-5e2c2bbfd378"
      },
      "execution_count": null,
      "outputs": [
        {
          "output_type": "stream",
          "name": "stdout",
          "text": [
            "[2, 1, 3, 0]\n"
          ]
        }
      ]
    },
    {
      "cell_type": "code",
      "source": [
        "x= []\n",
        "x.insert(3,0)\n",
        "x.insert(1,1)\n",
        "#x.insert(0,2)\n",
        "#x.insert(2,3)\n",
        "print(x)"
      ],
      "metadata": {
        "colab": {
          "base_uri": "https://localhost:8080/"
        },
        "id": "XWsxz2kvBvyH",
        "outputId": "c59d2cef-93bd-4793-8420-3673ccfbfd45"
      },
      "execution_count": null,
      "outputs": [
        {
          "output_type": "stream",
          "name": "stdout",
          "text": [
            "[0, 1]\n"
          ]
        }
      ]
    },
    {
      "cell_type": "code",
      "source": [
        "a = 12343212312311\n",
        "b = 1\n",
        "cnt = 0\n",
        "for i in str(a):\n",
        "  if i == str(b):\n",
        "    cnt += 1\n",
        "print(cnt)\n",
        "\n"
      ],
      "metadata": {
        "colab": {
          "base_uri": "https://localhost:8080/"
        },
        "id": "jl_PTwQLHM9p",
        "outputId": "cd2ca8d1-9ab1-4efc-c2b5-98d8ccbdcc72"
      },
      "execution_count": null,
      "outputs": [
        {
          "output_type": "stream",
          "name": "stdout",
          "text": [
            "5\n"
          ]
        }
      ]
    },
    {
      "cell_type": "code",
      "source": [
        "a = 12343212312311\n",
        "b = 1\n",
        "\n",
        "freq = str(a).count(str(b))\n",
        "print(freq)"
      ],
      "metadata": {
        "colab": {
          "base_uri": "https://localhost:8080/"
        },
        "id": "Sm3Zsa78Hfz2",
        "outputId": "bfdb22aa-6a11-4dca-f230-5efdc9b6afae"
      },
      "execution_count": null,
      "outputs": [
        {
          "output_type": "stream",
          "name": "stdout",
          "text": [
            "5\n"
          ]
        }
      ]
    },
    {
      "cell_type": "code",
      "source": [
        "y = []\n",
        "b = 10221\n",
        "c = 102\n",
        "y.append(b)\n",
        "y.append(c)\n",
        "\n",
        "for j in y:\n",
        "  x = str(j)[::-1]\n",
        "  #print(int(x))\n",
        "  l = 0\n",
        "  cnt = 0\n",
        "  for i in x:\n",
        "    cnt += (int(i)*3**j)\n",
        "    l += 1\n",
        "\n",
        "print(cnt)\n",
        "\n"
      ],
      "metadata": {
        "colab": {
          "base_uri": "https://localhost:8080/"
        },
        "id": "9zbccGbXQras",
        "outputId": "e8ee5f05-6d5b-474f-c345-716d200d9e1f"
      },
      "execution_count": null,
      "outputs": [
        {
          "output_type": "stream",
          "name": "stdout",
          "text": [
            "13915193059764305937984450503671774362956903094027\n"
          ]
        }
      ]
    },
    {
      "cell_type": "code",
      "source": [
        "y = []\n",
        "b = 10221\n",
        "c = 102\n",
        "y.append(b)\n",
        "y.append(c)\n",
        "print(y)\n",
        "\n",
        "for i in y:\n",
        "  x = str(i)[::-1]\n",
        "  l =0\n",
        "  for j in x:\n",
        "    cnt += int(j)*(3**l)\n",
        "    l+=1\n",
        "print(cnt)"
      ],
      "metadata": {
        "colab": {
          "base_uri": "https://localhost:8080/"
        },
        "id": "wRVWD1MuUdOm",
        "outputId": "2d2ab0d8-2ca8-4042-f75b-0067b7e70468"
      },
      "execution_count": null,
      "outputs": [
        {
          "output_type": "stream",
          "name": "stdout",
          "text": [
            "[10221, 102]\n",
            "13915193059764305937984450503671774362956903094261\n"
          ]
        }
      ]
    },
    {
      "cell_type": "code",
      "source": [
        "import math\n",
        "\n",
        "def bmi(A,B):\n",
        "        x=B\n",
        "        y= A/100\n",
        "        bmi = round((x/(y*y)),1)\n",
        "        if bmi < 18.5:\n",
        "            print (\"Underweight\")\n",
        "\n",
        "        elif bmi>=18.5 and bmi< 24.9:\n",
        "            print ( \"Normal\")\n",
        "\n",
        "        elif bmi>=24.9 and bmi< 29.9:\n",
        "            print ( \"Overweight\")\n",
        "\n",
        "        elif bmi > 29.9:\n",
        "            print ( \"Obese\")\n",
        "        print(bmi)"
      ],
      "metadata": {
        "id": "3cvNbXIUknzn"
      },
      "execution_count": null,
      "outputs": []
    },
    {
      "cell_type": "code",
      "source": [
        "A = 4\n",
        "B = 2\n",
        "s= \"\"\n",
        "\n",
        "while A > 0:\n",
        "  rem = A%B\n",
        "  s += str(rem)\n",
        "  A //=B\n",
        "  rev = s[::-1]\n",
        "\n",
        "print(int(rev))\n"
      ],
      "metadata": {
        "colab": {
          "base_uri": "https://localhost:8080/"
        },
        "id": "eVo1oDMTTIub",
        "outputId": "37d5d999-d3cf-48bc-8efb-5477962cdf47"
      },
      "execution_count": null,
      "outputs": [
        {
          "output_type": "stream",
          "name": "stdout",
          "text": [
            "100\n"
          ]
        }
      ]
    },
    {
      "cell_type": "code",
      "source": [
        "\n",
        "l = [6,21]\n",
        "s = []\n",
        "for a in l:\n",
        "  b = 3\n",
        "  m = 0\n",
        "  val = 0\n",
        "  rev_a = str(a)[::-1]\n",
        "  for i in rev_a:\n",
        "    val += int(i)*b**m\n",
        "    m+= 1\n",
        "  s.append(val)\n",
        "mul = 1\n",
        "for j in s:\n",
        "  mul *= j\n",
        "print(mul)\n",
        "print(b)\n",
        "\n",
        "c= 0\n",
        "p=\"\"\n",
        "while mul > 0:\n",
        "  rem = mul%b\n",
        "  p += str(rem)\n",
        "  mul //= b\n",
        "rev_p = p[::-1]\n",
        "print(int(rev_p))\n"
      ],
      "metadata": {
        "colab": {
          "base_uri": "https://localhost:8080/"
        },
        "id": "cxd-IVxMYGHF",
        "outputId": "4d4c1259-13a3-4a55-ff6a-1934268dc431"
      },
      "execution_count": null,
      "outputs": [
        {
          "output_type": "stream",
          "name": "stdout",
          "text": [
            "12\n",
            "3\n",
            "110\n"
          ]
        }
      ]
    },
    {
      "cell_type": "code",
      "source": [
        "\n",
        "def AnyBaseMultiplication( A, B, C):\n",
        "    l = []\n",
        "    l.append(B)\n",
        "    l.append(C)\n",
        "    s=[]\n",
        "    for a in l:\n",
        "        b = A\n",
        "        m = 0\n",
        "        val = 0\n",
        "        rev_a = str(a)[::-1]\n",
        "        for i in rev_a:\n",
        "            val += (int(i)*b**m)\n",
        "            m+= 1\n",
        "        s.append(val)\n",
        "        mul = 1\n",
        "        for j in s :\n",
        "            mul*= j\n",
        "\n",
        "        c= 0\n",
        "        p = \"\"\n",
        "        while mul > 0:\n",
        "            rem = mul%b\n",
        "            p += str(rem)\n",
        "            mul //= b\n",
        "        rev_p = p[::-1]\n",
        "        return int(rev_p)\n",
        "\n",
        "\n",
        "AnyBaseMultiplication(6,21,3)"
      ],
      "metadata": {
        "colab": {
          "base_uri": "https://localhost:8080/"
        },
        "id": "Ic26axJzDPRm",
        "outputId": "f99976bf-61a5-4e42-dc1c-564558bf3b00"
      },
      "execution_count": null,
      "outputs": [
        {
          "output_type": "execute_result",
          "data": {
            "text/plain": [
              "21"
            ]
          },
          "metadata": {},
          "execution_count": 16
        }
      ]
    },
    {
      "cell_type": "code",
      "source": [
        "'''B = 11\n",
        "  C = 10\n",
        "  A = 3'''\n",
        "\n",
        "a = 11\n",
        "b = 3\n",
        "m = 0\n",
        "val = 0\n",
        "s=[]\n",
        "rev_a = str(a)[::-1]\n",
        "print(rev_a)\n",
        "for i in rev_a:\n",
        "    val += (int(i)*b**m)\n",
        "    m+= 1\n",
        "s.append(val)\n",
        "print(s)\n",
        "mul = 1\n",
        "for j in s :\n",
        "    mul*= j\n",
        "\n",
        "print(mul)"
      ],
      "metadata": {
        "colab": {
          "base_uri": "https://localhost:8080/"
        },
        "id": "k_2vhBZQEjHW",
        "outputId": "ce6b7c23-154a-47ce-dddb-68d04816ed4a"
      },
      "execution_count": null,
      "outputs": [
        {
          "output_type": "stream",
          "name": "stdout",
          "text": [
            "11\n",
            "[4]\n",
            "4\n"
          ]
        }
      ]
    },
    {
      "cell_type": "code",
      "source": [
        "a =[1,1,1,2,5,8,10]\n",
        "b = 4\n",
        "\n",
        "def solve( a, b):\n",
        "    #s = A.split(' ')\n",
        "    #x = [int(i) for i in s]\n",
        "\n",
        "    for j in a:\n",
        "        y =[]\n",
        "        if j == b :\n",
        "            y.append(b)\n",
        "            y.append(b)\n",
        "            return y\n",
        "\n",
        "\n",
        "    ceil = max(a)\n",
        "    floor = min(a)\n",
        "    x = []\n",
        "    for i in a:\n",
        "        if i < b and i > floor:\n",
        "            floor = i\n",
        "        elif i > b and i < ceil :\n",
        "            ceil = i\n",
        "    x.append(ceil)\n",
        "    x.append(floor)\n",
        "    return x\n",
        "\n",
        "\n",
        "solve(a,b)\n",
        "\n"
      ],
      "metadata": {
        "colab": {
          "base_uri": "https://localhost:8080/"
        },
        "id": "rU1gc5K2Gkq0",
        "outputId": "17a5bb32-4964-4fcf-a91b-0b4971d62df3"
      },
      "execution_count": null,
      "outputs": [
        {
          "output_type": "execute_result",
          "data": {
            "text/plain": [
              "[5, 2]"
            ]
          },
          "metadata": {},
          "execution_count": 27
        }
      ]
    },
    {
      "cell_type": "code",
      "source": [
        "x = [1,2,3,4,5]\n",
        "\n",
        "y = x.pop()\n",
        "x.insert(0,y)\n",
        "print(x)"
      ],
      "metadata": {
        "colab": {
          "base_uri": "https://localhost:8080/"
        },
        "id": "BX8RC7iMBdMN",
        "outputId": "116e71d0-e547-47e9-be44-4dcb445c92c3"
      },
      "execution_count": null,
      "outputs": [
        {
          "output_type": "stream",
          "name": "stdout",
          "text": [
            "[5, 1, 2, 3, 4]\n"
          ]
        }
      ]
    },
    {
      "cell_type": "code",
      "source": [
        "x = [10,20,30,30,30,50]\n",
        "y = 30\n",
        "m = []\n",
        "for i in range(len(x)):\n",
        "  if x[i] == y:\n",
        "    m.append(i)\n",
        "\n",
        "print(m)"
      ],
      "metadata": {
        "colab": {
          "base_uri": "https://localhost:8080/"
        },
        "id": "2Ma8sjIzDsgS",
        "outputId": "ac207662-15c9-46a1-a415-601fbcbbbae2"
      },
      "execution_count": null,
      "outputs": [
        {
          "output_type": "stream",
          "name": "stdout",
          "text": [
            "[2, 3, 4]\n"
          ]
        }
      ]
    },
    {
      "cell_type": "code",
      "source": [
        "a = [1,2,3]\n",
        "b =[6,4,5]\n",
        "#a.append(b)\n",
        "a.extend(b)\n",
        "print(a)"
      ],
      "metadata": {
        "colab": {
          "base_uri": "https://localhost:8080/"
        },
        "id": "mMdasVqYFuNc",
        "outputId": "9ba5e78b-cfd8-419f-aa90-5ebbce7c9cca"
      },
      "execution_count": null,
      "outputs": [
        {
          "output_type": "stream",
          "name": "stdout",
          "text": [
            "[1, 2, 3, 6, 4, 5]\n"
          ]
        }
      ]
    },
    {
      "cell_type": "code",
      "source": [
        "a = [3,1,0,2]\n",
        "\n",
        "inv= [0]*len(a)\n",
        "\n",
        "for i in range(len(a)):\n",
        "  inv[a[i]]  = i\n",
        "print(inv)\n"
      ],
      "metadata": {
        "colab": {
          "base_uri": "https://localhost:8080/"
        },
        "id": "eZlVzg1MOtj-",
        "outputId": "3617af0e-2456-4d3f-bbe7-23af792e096c"
      },
      "execution_count": null,
      "outputs": [
        {
          "output_type": "stream",
          "name": "stdout",
          "text": [
            "[2, 1, 3, 0]\n"
          ]
        }
      ]
    },
    {
      "cell_type": "code",
      "source": [
        "x =[[1,2,3],[4,5,6],[7,8,9]]\n",
        "\n",
        "for i in x:\n",
        "  for j in i:\n",
        "    print(j,end=\" \")\n",
        "  print()"
      ],
      "metadata": {
        "colab": {
          "base_uri": "https://localhost:8080/"
        },
        "id": "8yFjKhaNKulQ",
        "outputId": "3a624327-ec00-4eca-dd4c-c17665fee4df"
      },
      "execution_count": null,
      "outputs": [
        {
          "output_type": "stream",
          "name": "stdout",
          "text": [
            "1 2 3 \n",
            "4 5 6 \n",
            "7 8 9 \n"
          ]
        }
      ]
    },
    {
      "cell_type": "code",
      "source": [
        "def sum_mat(a):\n",
        "\n",
        "  m = 0\n",
        "  for i in x:\n",
        "    for j in i:\n",
        "      m += j\n",
        "  return m"
      ],
      "metadata": {
        "id": "mGX5Q7C5K891"
      },
      "execution_count": null,
      "outputs": []
    },
    {
      "cell_type": "code",
      "source": [
        "x =[[1,2,3],[4,5,6],[7,8,9]]\n",
        "def sum_eachrow(a):\n",
        "  m = 0\n",
        "  row = len(a)\n",
        "  column = len(a[0])\n",
        "  for i in range(row):\n",
        "    for j in range(column):\n",
        "      m += x [i][j]\n",
        "    print(m)\n",
        "    m = 0\n",
        "\n",
        "sum_eachrow(x)"
      ],
      "metadata": {
        "colab": {
          "base_uri": "https://localhost:8080/"
        },
        "id": "2zSLy4DKLWA7",
        "outputId": "aba70a20-2b6d-4923-dd6b-d01810622423"
      },
      "execution_count": null,
      "outputs": [
        {
          "output_type": "stream",
          "name": "stdout",
          "text": [
            "6\n",
            "15\n",
            "24\n"
          ]
        }
      ]
    },
    {
      "cell_type": "code",
      "source": [
        "x =[[1,2,3],[4,5,6],[7,8,9]]\n",
        "def sum_eachcolumn(a):\n",
        "  row = len(a)\n",
        "  col = len(a[0])\n",
        "\n",
        "  for j in range(col):\n",
        "    sum_col = 0\n",
        "\n",
        "    for i in range(row):\n",
        "      sum_col += a[i][j]\n",
        "\n",
        "    print('sum of column',j,'=',sum_col)\n",
        "\n",
        "sum_eachcolumn(x)"
      ],
      "metadata": {
        "colab": {
          "base_uri": "https://localhost:8080/"
        },
        "id": "RZklFnhuMb7L",
        "outputId": "aa11a653-e77b-4920-a6c5-ffc7ebdffae8"
      },
      "execution_count": null,
      "outputs": [
        {
          "output_type": "stream",
          "name": "stdout",
          "text": [
            "sum of column 0 = 12\n",
            "sum of column 1 = 15\n",
            "sum of column 2 = 18\n"
          ]
        }
      ]
    },
    {
      "cell_type": "code",
      "source": [
        "x =[[1,2,3],[4,5,6],[7,8,9]]\n",
        "sum_mat(x)\n",
        "sum_eachrow(x)"
      ],
      "metadata": {
        "colab": {
          "base_uri": "https://localhost:8080/"
        },
        "id": "49HC1JVgLPSh",
        "outputId": "ad47ea08-b2bd-4990-9f9b-8cba19ff4378"
      },
      "execution_count": null,
      "outputs": [
        {
          "output_type": "stream",
          "name": "stdout",
          "text": [
            "6\n",
            "15\n",
            "24\n"
          ]
        }
      ]
    }
  ]
}