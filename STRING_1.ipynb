{
  "nbformat": 4,
  "nbformat_minor": 0,
  "metadata": {
    "colab": {
      "provenance": [],
      "authorship_tag": "ABX9TyOVQ5OeDgxKANfiNAL3aW9Y",
      "include_colab_link": true
    },
    "kernelspec": {
      "name": "python3",
      "display_name": "Python 3"
    },
    "language_info": {
      "name": "python"
    }
  },
  "cells": [
    {
      "cell_type": "markdown",
      "metadata": {
        "id": "view-in-github",
        "colab_type": "text"
      },
      "source": [
        "<a href=\"https://colab.research.google.com/github/knagabharathi/Python/blob/main/STRING_1.ipynb\" target=\"_parent\"><img src=\"https://colab.research.google.com/assets/colab-badge.svg\" alt=\"Open In Colab\"/></a>"
      ]
    },
    {
      "cell_type": "code",
      "execution_count": 9,
      "metadata": {
        "colab": {
          "base_uri": "https://localhost:8080/"
        },
        "id": "7zJuyEbzLLa7",
        "outputId": "3a509503-c62c-4ea8-c5ad-f433f1d662cb"
      },
      "outputs": [
        {
          "output_type": "stream",
          "name": "stdout",
          "text": [
            "38\n",
            "14 24\n"
          ]
        }
      ],
      "source": [
        "##'counting vowels and consonants'"
      ]
    },
    {
      "cell_type": "code",
      "source": [
        "A = \"File Cant be correpted with in the single line \"\n",
        "x = A.replace(\" \",\"\")\n",
        "print(len(x))\n",
        "cnt_a = 0\n",
        "cnt_c = 0\n",
        "ait = ['a','e','i','o','u']\n",
        "\n",
        "for i in x :\n",
        "  if i in ait:\n",
        "    cnt_a +=1\n",
        "  else:\n",
        "    cnt_c +=1\n",
        "print(cnt_a, cnt_c)"
      ],
      "metadata": {
        "colab": {
          "base_uri": "https://localhost:8080/"
        },
        "id": "1KBJdxfFNxkT",
        "outputId": "305be6e5-bab2-4910-946c-24a97f4c4fc8"
      },
      "execution_count": 10,
      "outputs": [
        {
          "output_type": "stream",
          "name": "stdout",
          "text": [
            "38\n",
            "14 24\n"
          ]
        }
      ]
    },
    {
      "cell_type": "code",
      "source": [
        "##CHECK PALINDROME\n",
        "\n",
        "def check_pal(A):\n",
        "  return \"Palindrome\" if A==A[::-1] else 'Not palindrome'\n",
        "\n",
        "\n",
        "check_pal('100000000001')\n",
        "check_pal('malayalam')"
      ],
      "metadata": {
        "colab": {
          "base_uri": "https://localhost:8080/",
          "height": 35
        },
        "id": "w3qkBqluOvg5",
        "outputId": "b1c3f324-5f51-46f4-ac31-4d57be36b118"
      },
      "execution_count": 12,
      "outputs": [
        {
          "output_type": "execute_result",
          "data": {
            "text/plain": [
              "'Palindrome'"
            ],
            "application/vnd.google.colaboratory.intrinsic+json": {
              "type": "string"
            }
          },
          "metadata": {},
          "execution_count": 12
        }
      ]
    },
    {
      "cell_type": "code",
      "source": [
        "##Generate a string from the char values of these numbers.\n",
        "\n",
        "A= [65, 97, 68]\n",
        "\n",
        "def gen(A):\n",
        "  s = \"\"\n",
        "  for i in A:\n",
        "    s+= chr(i)\n",
        "  return s\n",
        "\n",
        "gen(A)"
      ],
      "metadata": {
        "colab": {
          "base_uri": "https://localhost:8080/",
          "height": 35
        },
        "id": "tDu5lnWuPZVS",
        "outputId": "2459017e-59d2-41d7-9964-9d49b03a9424"
      },
      "execution_count": 13,
      "outputs": [
        {
          "output_type": "execute_result",
          "data": {
            "text/plain": [
              "'AaD'"
            ],
            "application/vnd.google.colaboratory.intrinsic+json": {
              "type": "string"
            }
          },
          "metadata": {},
          "execution_count": 13
        }
      ]
    },
    {
      "cell_type": "code",
      "source": [
        "#Given a string of comma separated values.\n",
        "#Convert it into a string of individual values.\n",
        "\n",
        "A = \"23,45,6,7,88,5,75,99\"\n",
        "\n",
        "def com(A):\n",
        "  x = A.split(\",\")\n",
        "  return x\n",
        "\n",
        "com(A)\n",
        "\n"
      ],
      "metadata": {
        "colab": {
          "base_uri": "https://localhost:8080/"
        },
        "id": "-XiFlx7DP6lP",
        "outputId": "4e18761d-6e6e-4b10-c20f-e993fece37e7"
      },
      "execution_count": 15,
      "outputs": [
        {
          "output_type": "execute_result",
          "data": {
            "text/plain": [
              "['23', '45', '6', '7', '88', '5', '75', '99']"
            ]
          },
          "metadata": {},
          "execution_count": 15
        }
      ]
    },
    {
      "cell_type": "code",
      "source": [
        "B = \"This is a RAndom String bcoz meri marzi\"\n",
        "def comm(A):\n",
        "  x = A.split(\" \")\n",
        "  return x\n",
        "\n",
        "comm(B)"
      ],
      "metadata": {
        "colab": {
          "base_uri": "https://localhost:8080/"
        },
        "id": "fSNn_5pQQnCO",
        "outputId": "165ffd71-cd7e-4f89-8a14-011271cffd48"
      },
      "execution_count": 17,
      "outputs": [
        {
          "output_type": "execute_result",
          "data": {
            "text/plain": [
              "['This', 'is', 'a', 'RAndom', 'String', 'bcoz', 'meri', 'marzi']"
            ]
          },
          "metadata": {},
          "execution_count": 17
        }
      ]
    }
  ]
}