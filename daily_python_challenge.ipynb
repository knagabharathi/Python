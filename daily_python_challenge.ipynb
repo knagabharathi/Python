{
  "nbformat": 4,
  "nbformat_minor": 0,
  "metadata": {
    "colab": {
      "provenance": [],
      "authorship_tag": "ABX9TyPFYoQw4FsTDSig1rcmKSnF",
      "include_colab_link": true
    },
    "kernelspec": {
      "name": "python3",
      "display_name": "Python 3"
    },
    "language_info": {
      "name": "python"
    }
  },
  "cells": [
    {
      "cell_type": "markdown",
      "metadata": {
        "id": "view-in-github",
        "colab_type": "text"
      },
      "source": [
        "<a href=\"https://colab.research.google.com/github/knagabharathi/Python/blob/main/daily_python_challenge.ipynb\" target=\"_parent\"><img src=\"https://colab.research.google.com/assets/colab-badge.svg\" alt=\"Open In Colab\"/></a>"
      ]
    },
    {
      "cell_type": "code",
      "execution_count": null,
      "metadata": {
        "id": "3t0lMI6UmydQ"
      },
      "outputs": [],
      "source": [
        "'''\n",
        "#1\n",
        "10/7\n",
        "Question: The words in a paragraph were stored in a 2D list. Each list inside the given list corresponds to a sentence. The elements of this list are words of that sentence. You have to find the mean number of words in each sentence. The mean of n values x1, x2 …, xn = (∑xi)/n. Round off the result to 2 decimal places.\n",
        "Examples:\n",
        "Test Case 1:\n",
        "Input - [[‘I’, ‘am’, ‘hungry’], [“Let’s”, ‘order’]]\n",
        "Output - 2.5\n",
        "Explanation - The first sentence has 3 words. The second one has 2. Mean = (3+2)/2 = 2.5\n",
        "Test Case 2:\n",
        "Input - [[‘We’, ‘know’, ‘what’, ‘we’, ‘are’], [‘But’, ‘know’, ‘not’, ‘what’, ‘we’, ‘may’, ‘be’]]\n",
        "Output - 6.0\n",
        "Explanation - First sentence has 5 words. Second has 7 words. Mean = 6.\n",
        "'''"
      ]
    },
    {
      "cell_type": "code",
      "source": [
        "x = [['I', 'am', 'hungry'], [\"let's\", 'order']]\n",
        "#print(x)\n",
        "# Solution 1\n",
        "def median(x):\n",
        "  l = []\n",
        "  cnt = 0\n",
        "  for i in x:\n",
        "    for j in i:\n",
        "      cnt += 1\n",
        "    l.append(cnt)\n",
        "    cnt = 0\n",
        "  #print(l)\n",
        "\n",
        "  sum=0\n",
        "  for i in l:\n",
        "    sum+= i\n",
        "    cnt += 1\n",
        "  avg = sum/cnt\n",
        "\n",
        "  return (avg)\n",
        "\n",
        "\n",
        "median(x)\n",
        "\n",
        "#2 - solution\n",
        "\n",
        "def mean_word_count(data):\n",
        "     # word_counts will store the word count for all the sentences\n",
        "     word_counts = []\n",
        "     for sentence in data:\n",
        "         n = len(sentence)\n",
        "         word_counts.append(n)\n",
        "     # Note that len(word_counts) gives us the number of sentences.\n",
        "     ans = round(sum(word_counts)/len(word_counts),2)\n",
        "     return ans\n",
        "\n",
        "#3 - solution\n",
        "\n",
        "def word_mean(x):\n",
        "  try :\n",
        "    mean= sum([len(i) for i in x])/len(x)\n",
        "  except ZeroDivisionError:\n",
        "    mean =0\n",
        "  return mean\n",
        "\n",
        "x = [['I', 'am', 'hungry'], [\"let's\", 'order']]\n",
        "word_mean(x)\n"
      ],
      "metadata": {
        "colab": {
          "base_uri": "https://localhost:8080/"
        },
        "id": "bY3Lje3l_5MF",
        "outputId": "64e74428-ba64-4eba-825b-03a7c93ec494"
      },
      "execution_count": 2,
      "outputs": [
        {
          "output_type": "execute_result",
          "data": {
            "text/plain": [
              "2.5"
            ]
          },
          "metadata": {},
          "execution_count": 2
        }
      ]
    },
    {
      "cell_type": "code",
      "source": [
        "m = [['We', 'knw', 'what', 'we', 're'], ['But', 'now', 'not', 'what', 'we', 'may', 'be']]\n",
        "print(m)\n",
        "\n",
        "median(m)"
      ],
      "metadata": {
        "colab": {
          "base_uri": "https://localhost:8080/"
        },
        "id": "5ly6Y_17Bvwc",
        "outputId": "7fbb029f-7f69-4b1f-c1f5-ca928223123f"
      },
      "execution_count": 3,
      "outputs": [
        {
          "output_type": "stream",
          "name": "stdout",
          "text": [
            "[['We', 'knw', 'what', 'we', 're'], ['But', 'now', 'not', 'what', 'we', 'may', 'be']]\n"
          ]
        },
        {
          "output_type": "execute_result",
          "data": {
            "text/plain": [
              "6.0"
            ]
          },
          "metadata": {},
          "execution_count": 3
        }
      ]
    },
    {
      "cell_type": "code",
      "source": [
        "'''\n",
        "#2\n",
        "11/7\n",
        "Duplicate!\n",
        "\n",
        "Do you know about relational databases? They are the huge pools of data that store data in an efficient way for performing Create, Read, Update and Delete (CRUD) operations on data. To facilitate this, they employ many techniques - one of them being to store each set of unique data with a unique identifier, called primary key. There are other constraints that can be used as keys as well - for example in a customer database, customer email can be kept as a key besides the primary key, given that every customer email should be unique. In this case, it’s called a candidate key.\n",
        "Here, you are the esteemed Database Administrator (DBA), and your task is to de-duplicate the data. Data de-duplication refers to the process of eliminating already existing duplicate data or preventing duplicate data from entering the database.\n",
        "But real-world data is messy, containing lots of duplicates. Here, you are given incoming employee data that consists of their name, address, employee email, phone number, etc. Your job is to create a filter that removes incoming duplicates from the database you are given.\n",
        "The incoming data is in the form of a list of tuples (DATA_KEY, NAME, EMAIL, ADDRESS, PHONE)\n",
        "The following constraints are given:\n",
        "DATA_KEY, EMPLOYEE_EMAIL and PHONE are the keys - that is, they should be unique.\n",
        "Complete the function db_filter(data) so that it takes in incoming data as a list of tuples and returns a de-duplicated list containing only the data that satisfy the above constraints. In case of duplicates, keep the data that was stored first.\n",
        "Input format: List of tuples\n",
        "Output format: List of tuples\n",
        "\n",
        "Test Case 1:\n",
        "Input: [(1, “A”, “a@b.com”, “23, Lake Avenue”, “919734536286”), (1, “B”, “a@b.com”, “23, Bard Colony”, “919734536286”)]\n",
        "Output: [(1, “A”, “a@b.com”, “23, Lake Avenue”, “919734536286”)]\n",
        "Explanation: The second entry violated the constraints that the fields DATA_KEY, EMPLOYEE_EMAIL and PHONE must be unique. So it was ignored.\n",
        "'''"
      ],
      "metadata": {
        "id": "P8IQ001UzDO5"
      },
      "execution_count": null,
      "outputs": []
    },
    {
      "cell_type": "code",
      "source": [
        "def db_filter(data):\n",
        "    primary_keys = set()\n",
        "    email = set()\n",
        "    phone_num = set()\n",
        "\n",
        "    filtered_data = []\n",
        "\n",
        "    for entry in data:\n",
        "        if entry[0] in primary_keys or entry[2] in email or entry[4] in phone_num:\n",
        "            continue\n",
        "        else:\n",
        "            filtered_data.append(entry)\n",
        "            primary_keys.add(entry[0])\n",
        "            email.add(entry[2])\n",
        "            phone_num.add(entry[4])\n",
        "\n",
        "    return filtered_data"
      ],
      "metadata": {
        "id": "x24c0H4dD2xe"
      },
      "execution_count": null,
      "outputs": []
    },
    {
      "cell_type": "code",
      "source": [
        "'''\n",
        "#3\n",
        "12/7\n",
        "Difficulty: Medium\n",
        "Question: Given a list of integers, find the index of the maximum value. If there are two maximums, return index of the first one. If given list is empty return -1. Do not use the index() method.\n",
        "Examples:\n",
        "Test Case 1:\n",
        "Input - [5, 10, 15, 4, 6]\n",
        "Output - 2\n",
        "Explanation - The maximum number is 15. It’s index is 2.\n",
        "Test Case 2:\n",
        "Input - [22,3,22,2,7,11]\n",
        "Output - 0\n",
        "Explanation - There are two maximums with value 22. The first one has index 0.\n",
        "'''\n"
      ],
      "metadata": {
        "id": "l6_So8T1DWhA"
      },
      "execution_count": null,
      "outputs": []
    },
    {
      "cell_type": "code",
      "source": [
        "#1\n",
        "a = [5, 10, 15, 4, 6]\n",
        "b = max(a)\n",
        "\n",
        "for i in range(len(a)):\n",
        "  if a[i] == b:\n",
        "    print(i)\n",
        "\n",
        "#2\n",
        "def locate_peak(data):\n",
        "    n = len(data)\n",
        "    if n==0:\n",
        "        return -1\n",
        "    # peak will store the biggest number known till that index. Setting it to the first number initially.\n",
        "    peak = data[0]\n",
        "    # idx will store the index of the previous biggest number. It doesn't get changed if we encounter a  # number equal to the current biggest number.\n",
        "    idx = 0\n",
        "    for i in range(1,n):\n",
        "        if data[i] > peak:\n",
        "            peak = data[i]\n",
        "            idx = i\n",
        "    return idx"
      ],
      "metadata": {
        "colab": {
          "base_uri": "https://localhost:8080/"
        },
        "id": "pe2uP2HZDmDB",
        "outputId": "93e09216-bbb3-4cf0-d69f-e3795d340643"
      },
      "execution_count": 2,
      "outputs": [
        {
          "output_type": "stream",
          "name": "stdout",
          "text": [
            "2\n"
          ]
        }
      ]
    },
    {
      "cell_type": "code",
      "source": [
        "'''\n",
        "#4\n",
        "13/7\n",
        "Question: Given a list of integers, group all numbers which end with the same digit and return as a dictionary. The keys of the dictionary will be the last digit and value of dictionary will be a list of numbers. If given list is empty return -1.\n",
        "Examples:\n",
        "Test Case 1:\n",
        "Input - [5, 10, 15, 4, 50]\n",
        "Output - {5: [5,15], 0: [10, 50], 4: [4]}\n",
        "Explanation - 5 and 15 end with 5, so they are grouped together. 10 and 50 end with 0. 4 ends with 4.\n",
        "Test Case 2:\n",
        "Input - [22,3,22,2,71,11]\n",
        "Output - {2: [22, 22, 2], 3: [3], 1: [71, 11]}\n",
        "Explanation - 22, 22 and 2 end with 2, so they are grouped together. 3 ends with 3. 71 and 11 end with 1.\n",
        "'''\n",
        "\n",
        "'''\n",
        "Intuition:\n",
        "To find the last digit of a number N, we can do N%10.\n",
        "We then check if we have stored any numbers with that last digit already.\n",
        "If so, we just add our number to that list. If not we create a new list with our number in it.\n",
        "'''"
      ],
      "metadata": {
        "id": "hZ00FVKm4aa2"
      },
      "execution_count": null,
      "outputs": []
    },
    {
      "cell_type": "code",
      "source": [
        "a = [5,10,15,4,50,71,11]\n",
        "\n",
        "#1 - own\n",
        "def dict(a):\n",
        "  b = set()\n",
        "  for i in a:\n",
        "    b.add(str(i)[-1])\n",
        "  print(b)\n",
        "\n",
        "  d ={}\n",
        "  x = []\n",
        "  for j in b:\n",
        "    for i in a:\n",
        "      if str(i)[-1] == j:\n",
        "        x.append(i)\n",
        "    d[int(j)]=x\n",
        "    x=[]\n",
        "  return d\n",
        "\n",
        "a= [22,3,22,2,71,11]\n",
        "dict(a)\n",
        "\n",
        "#2- grp ans\n",
        "\n",
        "def group_on_tail(data):\n",
        "    n = len(data)\n",
        "    ans = {}\n",
        "    if n==0:\n",
        "        return -1\n",
        "    for i in range(n):\n",
        "        # Checking if the number's last digit is already a key in our dictionary\n",
        "        if data[i]%10 in ans:\n",
        "            ans[data[i]%10].append(data[i]) # Adding number to existing list\n",
        "        else:\n",
        "            ans[data[i]%10] = [data[i]] # Creating a new list with last digit as key\n",
        "    return ans"
      ],
      "metadata": {
        "colab": {
          "base_uri": "https://localhost:8080/"
        },
        "id": "c6Z3fbeJC2zs",
        "outputId": "ca643d66-31c8-4fb3-d15d-34292300fb8e"
      },
      "execution_count": 27,
      "outputs": [
        {
          "output_type": "stream",
          "name": "stdout",
          "text": [
            "{'1', '2', '3'}\n"
          ]
        },
        {
          "output_type": "execute_result",
          "data": {
            "text/plain": [
              "{1: [71, 11], 2: [22, 22, 2], 3: [3]}"
            ]
          },
          "metadata": {},
          "execution_count": 27
        }
      ]
    },
    {
      "cell_type": "code",
      "source": [
        "'''\n",
        "#5\n",
        "Difficulty: Medium\n",
        "Question: Nested functions are a big deal breaker in Object Oriented Programming. It’s not recommended to use them usually,\n",
        "unless some different case arises. That said, can you convert this nested function func1 into a non-nested function?\n",
        "'''\n",
        "def func1(power, number=78):\n",
        "     def square(x):\n",
        "         return x*x\n",
        "\n",
        "     def cube(x):\n",
        "         return x**3\n",
        "\n",
        "     if power == 2:\n",
        "         return square(number)\n",
        "     elif power == 3:\n",
        "         return cube(number)\n",
        "     else:\n",
        "         print(\"Unknown power\")\n",
        "         return -1\n",
        "\n",
        "#Example:\n",
        " def func1():\n",
        "     def b():\n",
        "         print(\"Hi\")\n",
        "     b()\n",
        "\n",
        "#Can be simply nested into:\n",
        "\n",
        " def func1():\n",
        "     print(\"Hi\")\n",
        "\n",
        "#possible solution\n",
        "def func1(power, number=78):\n",
        "    if power == 2:\n",
        "        return number*number\n",
        "    elif power == 3:\n",
        "        return number**3\n",
        "    else:\n",
        "        print(\"Unknown power\")\n",
        "        return -1"
      ],
      "metadata": {
        "id": "8KmoW69kY08W"
      },
      "execution_count": null,
      "outputs": []
    },
    {
      "cell_type": "code",
      "source": [
        "'''\n",
        "#6\n",
        "17/7\n",
        "Difficulty: Medium\n",
        "Question: Kaprekar numbers are a special kind of numbers whose repeated sum of digits always add up to either 1 or 9.\n",
        "\n",
        "For example:\n",
        "6174\n",
        "=> 6 + 1 + 7 + 4 = 18\n",
        "=> 1 + 8 = 9\n",
        "As you can see, this was done in two steps.\n",
        "Your task is to complete the function with the definition solve_kaprekar(number: int, max_steps: int),\n",
        "which returns whether the function comes out to be a Kaprekar Number within the number of steps less than or equal to max_steps,\n",
        "and return either True or False.\n",
        "\n",
        "Examples:\n",
        "Test Case 1:\n",
        "Input: number=1, max_steps=3\n",
        "\n",
        "Output: True\n",
        "Explanation: 1 is a Kaprekar number since the sum of its digits is 1. So we return True\n",
        "\n",
        "Test Case 2:\n",
        "Input: number=1674, max_steps=1\n",
        "\n",
        "Output: False\n",
        "Explanation: 1+6+7+4 = 18 (Step 1)\n",
        "\n",
        "1 step has been completed, and the sum of digits hasn’t been 1 or 9. So we stop execution here, and return False\n",
        "\n",
        "Test Case 3:\n",
        "Input: number=93, max_steps=4\n",
        "Output: False\n",
        "Explanation: 9+3=12 (Step 1), 1+2 = 3 (Step 2)\n",
        "We can’t move anymore since the sum is a single digit number now. So we return False\n",
        "'''\n"
      ],
      "metadata": {
        "id": "yhOXQbMT07q1"
      },
      "execution_count": null,
      "outputs": []
    },
    {
      "cell_type": "code",
      "source": [
        "#own\n",
        "def pic(m,max_int):\n",
        "  def sum_a(a):\n",
        "    x = 0\n",
        "    for i in str(a):\n",
        "      x+= int(i)\n",
        "    return x\n",
        "\n",
        "  cnt=0\n",
        "  while m > 9:\n",
        "    m = sum_a(m)\n",
        "    cnt += 1\n",
        "\n",
        "  if m in [1,9] and cnt <= max_int:\n",
        "    return True\n",
        "  else:\n",
        "    return False\n",
        "\n",
        "\n",
        "pic(98794,3)"
      ],
      "metadata": {
        "colab": {
          "base_uri": "https://localhost:8080/"
        },
        "id": "1HrLLz7i3BmA",
        "outputId": "47ddd00b-5665-45c7-be1c-501d9e5d695f"
      },
      "execution_count": 35,
      "outputs": [
        {
          "output_type": "execute_result",
          "data": {
            "text/plain": [
              "True"
            ]
          },
          "metadata": {},
          "execution_count": 35
        }
      ]
    },
    {
      "cell_type": "code",
      "source": [
        "a= 98794\n",
        "cnt = 0\n",
        "while a > 9:\n",
        "  a = sum_a(a)\n",
        "  cnt += 1\n",
        "  print(a)\n",
        "print(cnt)"
      ],
      "metadata": {
        "colab": {
          "base_uri": "https://localhost:8080/"
        },
        "id": "dBleQy-03xcD",
        "outputId": "8e24d524-c661-429d-a281-15cb09440fc0"
      },
      "execution_count": 31,
      "outputs": [
        {
          "output_type": "stream",
          "name": "stdout",
          "text": [
            "37\n",
            "10\n",
            "1\n",
            "3\n"
          ]
        }
      ]
    },
    {
      "cell_type": "code",
      "source": [
        "'''\n",
        "#8\n",
        "19/7\n",
        "Difficulty: Medium\n",
        "Question: Given a string with words separated by spaces, create an acronym by taking the first letter of each word. The output string should be in upper case.\n",
        "Examples:\n",
        "Test Case 1:\n",
        "Input - ‘Laboratory for Physicists’\n",
        "Output - ‘LFP’\n",
        "Explanation - First letter of ‘laboratory’ is L. First letter of ‘for’ is F. For ‘Physicists’ it’s P. So our acronym becomes LFP.\n",
        "Test Case 2:\n",
        "Input - ‘State Bank of India’\n",
        "Output - ‘SBOI’\n",
        "Explanation - First letter of ‘state’ is S. For Bank it’s B, for ‘of’ it’s O, for India it’s I. So our acronym becomes SBOI.'''"
      ],
      "metadata": {
        "id": "oHQ7zHVH_0Ac"
      },
      "execution_count": null,
      "outputs": []
    },
    {
      "cell_type": "code",
      "source": [
        "#own\n",
        "def acrobyms(a):\n",
        "  x = [i for i in a.split()]\n",
        "  m=\"\"\n",
        "  for i in x:\n",
        "    m+= list(i)[0]\n",
        "  return m\n",
        "\n",
        "#ANs posted\n",
        "def create_acronym(s):\n",
        "    list_of_words = s.split()\n",
        "    ans = ''\n",
        "    for word in list_of_words:\n",
        "        ans += word[0].upper()\n",
        "    return ans\n",
        "\n",
        "a= \"Fans of India\"\n",
        "acrobyms(a)"
      ],
      "metadata": {
        "colab": {
          "base_uri": "https://localhost:8080/",
          "height": 35
        },
        "id": "OBQWaj4g_3OJ",
        "outputId": "535d2d42-9c18-48b6-8493-5625c57b2cb2"
      },
      "execution_count": 7,
      "outputs": [
        {
          "output_type": "execute_result",
          "data": {
            "text/plain": [
              "'FoI'"
            ],
            "application/vnd.google.colaboratory.intrinsic+json": {
              "type": "string"
            }
          },
          "metadata": {},
          "execution_count": 7
        }
      ]
    },
    {
      "cell_type": "code",
      "source": [
        "'''\n",
        "#7\n",
        "18/7\n",
        "Show me the Clock\n",
        "Difficulty: Hard\n",
        "Question: Write a program that prints the sand clock pattern. A sand clock pattern looks like:\n",
        " * * * * * * * * * *\n",
        "  *               *\n",
        "   *             *\n",
        "    *           *\n",
        "     *         *\n",
        "      *       *\n",
        "       *     *\n",
        "        *   *\n",
        "         * *\n",
        "         * *\n",
        "        *   *\n",
        "       *     *\n",
        "      *       *\n",
        "     *         *\n",
        "    *           *\n",
        "   *             *\n",
        "  *               *\n",
        " * * * * * * * * * *\n",
        "Given a length for one half of the sand clock (representing the number of rows each half takes), construct a sand clock.\n",
        "Your task is to complete the function print_sandclock with the definition print_sandclock(length) so that it does the same. The argument length is of type int\n",
        "Example:\n",
        "Test Case 1:\n",
        "Input: 5\n",
        "Output:\n",
        "\n",
        " * * * * *\n",
        "\t*     *\n",
        "\t *   *\n",
        "\t  * *\n",
        "\t  * *\n",
        "\t *   *\n",
        "\t*     *\n",
        " * * * * *\n",
        "'''"
      ],
      "metadata": {
        "id": "uNEF8XBX3nnF"
      },
      "execution_count": null,
      "outputs": []
    },
    {
      "cell_type": "code",
      "source": [
        "def Sound_Clock_Pattern(n):\n",
        "    k=n*2\n",
        "    for i in range(n):\n",
        "        k-=2\n",
        "        if i==0:\n",
        "            print('','*'*n*2)\n",
        "        else:\n",
        "            print((i-1)*' ','*',k*' ','*')\n",
        "    k=0\n",
        "    for i in range(n-1,-1,-1):\n",
        "        if i==0:\n",
        "            print('','*'*n*2)\n",
        "        else:\n",
        "            print((i-1)*' ','*',k*' ','*')\n",
        "        k+=2\n",
        "\n",
        "\n",
        "Sound_Clock_Pattern(5)"
      ],
      "metadata": {
        "colab": {
          "base_uri": "https://localhost:8080/"
        },
        "id": "c6MUPe1OBWS_",
        "outputId": "285d8d52-de1f-46ee-9136-bfe51d94677b"
      },
      "execution_count": 1,
      "outputs": [
        {
          "output_type": "stream",
          "name": "stdout",
          "text": [
            " **********\n",
            " *        *\n",
            "  *      *\n",
            "   *    *\n",
            "    *  *\n",
            "    *  *\n",
            "   *    *\n",
            "  *      *\n",
            " *        *\n",
            " **********\n"
          ]
        }
      ]
    },
    {
      "cell_type": "code",
      "source": [
        "def print_sandclock(length):\n",
        "    # Print first line\n",
        "    print(\" \".join([\"*\"]*(length-1)))\n",
        "\n",
        "    # Upper half of the clock\n",
        "    for row in range(2, length): # 2 is kept here because at the middle there are two characters\n",
        "        # This loop is for spacing before the stars\n",
        "        for k in range(2, row):\n",
        "            print(\" \", end=\"\")\n",
        "        print(\"* \", end=\"\")\n",
        "        # This loop is for the spaces after the first star\n",
        "        for k in reversed(range(2, length-row+1)):\n",
        "            print(\"  \", end=\"\") # Note the printed double space here\n",
        "        print(\"*\", end=\"\\n\") # The star is printed, next line now\n",
        "\n",
        "    # Lower half of the clock - see how we can add only reverse to the above logic and complete the lower portion\n",
        "    for row in reversed(range(2, length)):\n",
        "        for k in range(2, row):\n",
        "            print(\" \", end=\"\")\n",
        "        print(\"* \", end=\"\")\n",
        "        # This loop is for the spaces after the first star\n",
        "        for k in range(2, length-row+1): # reversed(reversed(range(...))) is the same as range(...)\n",
        "            print(\"  \", end=\"\") # Note the printed double space here\n",
        "        print(\"*\", end=\"\\n\") # The star is printed, next line now\n",
        "    # Print last line\n",
        "    print(\" \".join([\"*\"]*(length-1)))"
      ],
      "metadata": {
        "id": "eI4SD-6jEf1U"
      },
      "execution_count": null,
      "outputs": []
    },
    {
      "cell_type": "code",
      "source": [
        "'''\n",
        "#9\n",
        "20/7\n",
        "\n",
        "The Art of Approximation.\n",
        "Difficulty: Medium\n",
        "Binary search is effective, since we all know that its time complexity is O(log n). But in large scale systems like Netflix, where there are trillions of megabytes to process, even this may fall short.\n",
        "In large scale systems like that of Netflix, data lookups are always parallel, simultaneously searching relevant node servers in a server cluster. The data at Netflix is stored redundantly in such a way that they can be accessed in the fastest way possible. So to compensate for this, one of the approaches they apply is to approximate search solutions inside their massive data store. A way to start that is to use Approximate Binary Search. This basically means that after a certain number of calls to itself, the binary search either returns the result or a value that says “Not found here”.\n",
        "As a developer, your task is to devise the algorithm. Assume that the data you are getting is sorted, but you don’t know which direction.\n",
        "Thus, given an upper limit on the number of self-calls you can make, write a program that searches the data and returns either the index of where the data is, or -1 (indicating that the data is nowhere to be found within the given constraints.)\n",
        "Your task is to complete the function:\n",
        "def approximate_binary_search(data, search_term, limit) .\n",
        "Input Format:\n",
        "data - list of int\n",
        "search_term: int\n",
        "limit: int\n",
        "Output Format: int\n",
        "Examples:\n",
        "Test Case 1:\n",
        "Input: [1, 2, 3, 4, 5, 6], 1, 2\n",
        "Output: -1\n",
        "Explanation: Initially, the middle element is checked. Since 1 isn’t in the middle, there are 2 recursive calls - one to the left half, and one to the right. The left half gets the array [1, 2, 3], while the right half gets [4, 5, 6]. Now, each of their middle elements are 2 and 5 respectively. Now, they are going to be split again, but due to the constraint that the maximum number of API calls can be 2, it returns -1.\n",
        "NB: Assume that the limit is going to be an even number.\n",
        "'''"
      ],
      "metadata": {
        "id": "LI2RhcvaX2WN"
      },
      "execution_count": null,
      "outputs": []
    },
    {
      "cell_type": "code",
      "source": [
        "def approximate_binary_search(data: list[int], search_term: int, limit: int) -> int:\n",
        "    middle = len(data) // 2\n",
        "\n",
        "    if data[middle] == search_term:\n",
        "        return middle\n",
        "    elif limit <= 0:\n",
        "        # print(\"Call limit reached. Exiting...\") # Uncomment the line to see what happens\n",
        "        return -1\n",
        "    else:\n",
        "        left = data[:middle]\n",
        "        right = data[middle:]\n",
        "\n",
        "        # print(\"Searching down left side containing: \", left) # Uncomment to see the call happening\n",
        "        res_left = approximate_binary_search(data=left, search_term=search_term, limit=limit-2)\n",
        "        # print(\"Searching down right side containing: \", right) # Uncomment to see the call happening\n",
        "        res_right = approximate_binary_search(data=right, search_term=search_term, limit=limit-2)\n",
        "\n",
        "        if res_left > -1:\n",
        "            return res_left\n",
        "        elif res_right > -1:\n",
        "            return res_right\n",
        "\n",
        "    return -1 # Search unsuccessful"
      ],
      "metadata": {
        "id": "tfyGOhh4aHPI"
      },
      "execution_count": null,
      "outputs": []
    },
    {
      "cell_type": "code",
      "source": [
        "'''\n",
        "#10\n",
        "21/7\n",
        "\n",
        "Hey Pythonistas, let's get started with the Day 10 of the Daily Python Question! :drum_with_drumsticks: :python:\n",
        "Spread\n",
        "Difficulty: Easy\n",
        "Given a list of numbers find the spread of the list. Here, spread = Max - Min\n",
        "Examples:\n",
        "Test Case 1:\n",
        "Input: [1,2,3,4,5]\n",
        "Output: 4\n",
        "Explanation: Maximum = 5, Minimum = 1. Spread = 5-1 = 4\n",
        "Test Case 2:\n",
        "Input: [-1,0,5]\n",
        "Output: 6\n",
        "Explanation: Maximum = 5, Minimum = -1. Spread = 5-(-1) = 6.\n",
        "\n",
        "'''"
      ],
      "metadata": {
        "id": "UgQwNgiOZfDO"
      },
      "execution_count": null,
      "outputs": []
    },
    {
      "cell_type": "code",
      "source": [
        "def spread(a):\n",
        "  return max(a)-min(a)\n",
        "\n",
        "a= [4,5,6,7,8,9]\n",
        "spread(a)\n"
      ],
      "metadata": {
        "colab": {
          "base_uri": "https://localhost:8080/"
        },
        "id": "iHSlTgI3ZpKL",
        "outputId": "b5cfa0ce-e28c-4c0d-b9a0-b46423e8298f"
      },
      "execution_count": 5,
      "outputs": [
        {
          "output_type": "execute_result",
          "data": {
            "text/plain": [
              "5"
            ]
          },
          "metadata": {},
          "execution_count": 5
        }
      ]
    }
  ]
}