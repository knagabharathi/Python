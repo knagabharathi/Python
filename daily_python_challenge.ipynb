{
  "nbformat": 4,
  "nbformat_minor": 0,
  "metadata": {
    "colab": {
      "provenance": [],
      "authorship_tag": "ABX9TyMUWsrlcgT0ELe6VQZY+YeX",
      "include_colab_link": true
    },
    "kernelspec": {
      "name": "python3",
      "display_name": "Python 3"
    },
    "language_info": {
      "name": "python"
    }
  },
  "cells": [
    {
      "cell_type": "markdown",
      "metadata": {
        "id": "view-in-github",
        "colab_type": "text"
      },
      "source": [
        "<a href=\"https://colab.research.google.com/github/knagabharathi/Python/blob/main/daily_python_challenge.ipynb\" target=\"_parent\"><img src=\"https://colab.research.google.com/assets/colab-badge.svg\" alt=\"Open In Colab\"/></a>"
      ]
    },
    {
      "cell_type": "code",
      "execution_count": null,
      "metadata": {
        "id": "3t0lMI6UmydQ"
      },
      "outputs": [],
      "source": [
        "'''\n",
        "#1\n",
        "Question: The words in a paragraph were stored in a 2D list. Each list inside the given list corresponds to a sentence. The elements of this list are words of that sentence. You have to find the mean number of words in each sentence. The mean of n values x1, x2 …, xn = (∑xi)/n. Round off the result to 2 decimal places.\n",
        "Examples:\n",
        "Test Case 1:\n",
        "Input - [[‘I’, ‘am’, ‘hungry’], [“Let’s”, ‘order’]]\n",
        "Output - 2.5\n",
        "Explanation - The first sentence has 3 words. The second one has 2. Mean = (3+2)/2 = 2.5\n",
        "Test Case 2:\n",
        "Input - [[‘We’, ‘know’, ‘what’, ‘we’, ‘are’], [‘But’, ‘know’, ‘not’, ‘what’, ‘we’, ‘may’, ‘be’]]\n",
        "Output - 6.0\n",
        "Explanation - First sentence has 5 words. Second has 7 words. Mean = 6.\n",
        "'''"
      ]
    },
    {
      "cell_type": "code",
      "source": [
        "x = [['I', 'am', 'hungry'], [\"let's\", 'order']]\n",
        "#print(x)\n",
        "# Solution 1\n",
        "def median(x):\n",
        "  l = []\n",
        "  cnt = 0\n",
        "  for i in x:\n",
        "    for j in i:\n",
        "      cnt += 1\n",
        "    l.append(cnt)\n",
        "    cnt = 0\n",
        "  #print(l)\n",
        "\n",
        "  sum=0\n",
        "  for i in l:\n",
        "    sum+= i\n",
        "    cnt += 1\n",
        "  avg = sum/cnt\n",
        "\n",
        "  return (avg)\n",
        "\n",
        "\n",
        "median(x)\n",
        "\n",
        "#2 - solution\n",
        "\n",
        "def mean_word_count(data):\n",
        "     # word_counts will store the word count for all the sentences\n",
        "     word_counts = []\n",
        "     for sentence in data:\n",
        "         n = len(sentence)\n",
        "         word_counts.append(n)\n",
        "     # Note that len(word_counts) gives us the number of sentences.\n",
        "     ans = round(sum(word_counts)/len(word_counts),2)\n",
        "     return ans\n",
        "\n",
        "#3 - solution\n",
        "\n",
        "def word_mean(x):\n",
        "  try :\n",
        "    mean= sum([len(i) for i in x])/len(x)\n",
        "  except ZeroDivisionError:\n",
        "    mean =0\n",
        "  return mean\n",
        "\n",
        "x = [['I', 'am', 'hungry'], [\"let's\", 'order']]\n",
        "word_mean(x)\n"
      ],
      "metadata": {
        "colab": {
          "base_uri": "https://localhost:8080/"
        },
        "id": "bY3Lje3l_5MF",
        "outputId": "64e74428-ba64-4eba-825b-03a7c93ec494"
      },
      "execution_count": 2,
      "outputs": [
        {
          "output_type": "execute_result",
          "data": {
            "text/plain": [
              "2.5"
            ]
          },
          "metadata": {},
          "execution_count": 2
        }
      ]
    },
    {
      "cell_type": "code",
      "source": [
        "m = [['We', 'knw', 'what', 'we', 're'], ['But', 'now', 'not', 'what', 'we', 'may', 'be']]\n",
        "print(m)\n",
        "\n",
        "median(m)"
      ],
      "metadata": {
        "colab": {
          "base_uri": "https://localhost:8080/"
        },
        "id": "5ly6Y_17Bvwc",
        "outputId": "7fbb029f-7f69-4b1f-c1f5-ca928223123f"
      },
      "execution_count": 3,
      "outputs": [
        {
          "output_type": "stream",
          "name": "stdout",
          "text": [
            "[['We', 'knw', 'what', 'we', 're'], ['But', 'now', 'not', 'what', 'we', 'may', 'be']]\n"
          ]
        },
        {
          "output_type": "execute_result",
          "data": {
            "text/plain": [
              "6.0"
            ]
          },
          "metadata": {},
          "execution_count": 3
        }
      ]
    },
    {
      "cell_type": "code",
      "source": [
        "'''\n",
        "Duplicate!\n",
        "\n",
        "Do you know about relational databases? They are the huge pools of data that store data in an efficient way for performing Create, Read, Update and Delete (CRUD) operations on data. To facilitate this, they employ many techniques - one of them being to store each set of unique data with a unique identifier, called primary key. There are other constraints that can be used as keys as well - for example in a customer database, customer email can be kept as a key besides the primary key, given that every customer email should be unique. In this case, it’s called a candidate key.\n",
        "Here, you are the esteemed Database Administrator (DBA), and your task is to de-duplicate the data. Data de-duplication refers to the process of eliminating already existing duplicate data or preventing duplicate data from entering the database.\n",
        "But real-world data is messy, containing lots of duplicates. Here, you are given incoming employee data that consists of their name, address, employee email, phone number, etc. Your job is to create a filter that removes incoming duplicates from the database you are given.\n",
        "The incoming data is in the form of a list of tuples (DATA_KEY, NAME, EMAIL, ADDRESS, PHONE)\n",
        "The following constraints are given:\n",
        "DATA_KEY, EMPLOYEE_EMAIL and PHONE are the keys - that is, they should be unique.\n",
        "Complete the function db_filter(data) so that it takes in incoming data as a list of tuples and returns a de-duplicated list containing only the data that satisfy the above constraints. In case of duplicates, keep the data that was stored first.\n",
        "Input format: List of tuples\n",
        "Output format: List of tuples\n",
        "\n",
        "Test Case 1:\n",
        "Input: [(1, “A”, “a@b.com”, “23, Lake Avenue”, “919734536286”), (1, “B”, “a@b.com”, “23, Bard Colony”, “919734536286”)]\n",
        "Output: [(1, “A”, “a@b.com”, “23, Lake Avenue”, “919734536286”)]\n",
        "Explanation: The second entry violated the constraints that the fields DATA_KEY, EMPLOYEE_EMAIL and PHONE must be unique. So it was ignored.\n",
        "'''"
      ],
      "metadata": {
        "id": "P8IQ001UzDO5"
      },
      "execution_count": null,
      "outputs": []
    },
    {
      "cell_type": "code",
      "source": [
        "def db_filter(data):\n",
        "    primary_keys = set()\n",
        "    email = set()\n",
        "    phone_num = set()\n",
        "\n",
        "    filtered_data = []\n",
        "\n",
        "    for entry in data:\n",
        "        if entry[0] in primary_keys or entry[2] in email or entry[4] in phone_num:\n",
        "            continue\n",
        "        else:\n",
        "            filtered_data.append(entry)\n",
        "            primary_keys.add(entry[0])\n",
        "            email.add(entry[2])\n",
        "            phone_num.add(entry[4])\n",
        "\n",
        "    return filtered_data"
      ],
      "metadata": {
        "id": "x24c0H4dD2xe"
      },
      "execution_count": null,
      "outputs": []
    },
    {
      "cell_type": "code",
      "source": [
        "'''Difficulty: Medium\n",
        "Question: Given a list of integers, find the index of the maximum value. If there are two maximums, return index of the first one. If given list is empty return -1. Do not use the index() method.\n",
        "Examples:\n",
        "Test Case 1:\n",
        "Input - [5, 10, 15, 4, 6]\n",
        "Output - 2\n",
        "Explanation - The maximum number is 15. It’s index is 2.\n",
        "Test Case 2:\n",
        "Input - [22,3,22,2,7,11]\n",
        "Output - 0\n",
        "Explanation - There are two maximums with value 22. The first one has index 0.\n",
        "'''\n"
      ],
      "metadata": {
        "id": "l6_So8T1DWhA"
      },
      "execution_count": null,
      "outputs": []
    },
    {
      "cell_type": "code",
      "source": [
        "#1\n",
        "a = [5, 10, 15, 4, 6]\n",
        "b = max(a)\n",
        "\n",
        "for i in range(len(a)):\n",
        "  if a[i] == b:\n",
        "    print(i)\n",
        "\n",
        "#2\n",
        "def locate_peak(data):\n",
        "    n = len(data)\n",
        "    if n==0:\n",
        "        return -1\n",
        "    # peak will store the biggest number known till that index. Setting it to the first number initially.\n",
        "    peak = data[0]\n",
        "    # idx will store the index of the previous biggest number. It doesn't get changed if we encounter a  # number equal to the current biggest number.\n",
        "    idx = 0\n",
        "    for i in range(1,n):\n",
        "        if data[i] > peak:\n",
        "            peak = data[i]\n",
        "            idx = i\n",
        "    return idx"
      ],
      "metadata": {
        "colab": {
          "base_uri": "https://localhost:8080/"
        },
        "id": "pe2uP2HZDmDB",
        "outputId": "93e09216-bbb3-4cf0-d69f-e3795d340643"
      },
      "execution_count": 2,
      "outputs": [
        {
          "output_type": "stream",
          "name": "stdout",
          "text": [
            "2\n"
          ]
        }
      ]
    },
    {
      "cell_type": "code",
      "source": [
        "'''\n",
        "Question: Given a list of integers, group all numbers which end with the same digit and return as a dictionary. The keys of the dictionary will be the last digit and value of dictionary will be a list of numbers. If given list is empty return -1.\n",
        "Examples:\n",
        "Test Case 1:\n",
        "Input - [5, 10, 15, 4, 50]\n",
        "Output - {5: [5,15], 0: [10, 50], 4: [4]}\n",
        "Explanation - 5 and 15 end with 5, so they are grouped together. 10 and 50 end with 0. 4 ends with 4.\n",
        "Test Case 2:\n",
        "Input - [22,3,22,2,71,11]\n",
        "Output - {2: [22, 22, 2], 3: [3], 1: [71, 11]}\n",
        "Explanation - 22, 22 and 2 end with 2, so they are grouped together. 3 ends with 3. 71 and 11 end with 1.\n",
        "'''"
      ],
      "metadata": {
        "id": "hZ00FVKm4aa2"
      },
      "execution_count": null,
      "outputs": []
    },
    {
      "cell_type": "code",
      "source": [
        "a = [5,10,15,4,50,71,11]\n",
        "\n",
        "def dict(a):\n",
        "  b = set()\n",
        "  for i in a:\n",
        "    b.add(str(i)[-1])\n",
        "  print(b)\n",
        "\n",
        "  d ={}\n",
        "  x = []\n",
        "  for j in b:\n",
        "    for i in a:\n",
        "      if str(i)[-1] == j:\n",
        "        x.append(i)\n",
        "    d[int(j)]=x\n",
        "    x=[]\n",
        "  return d\n",
        "\n",
        "a= [22,3,22,2,71,11]\n",
        "dict(a)"
      ],
      "metadata": {
        "colab": {
          "base_uri": "https://localhost:8080/"
        },
        "id": "c6Z3fbeJC2zs",
        "outputId": "ca643d66-31c8-4fb3-d15d-34292300fb8e"
      },
      "execution_count": 27,
      "outputs": [
        {
          "output_type": "stream",
          "name": "stdout",
          "text": [
            "{'1', '2', '3'}\n"
          ]
        },
        {
          "output_type": "execute_result",
          "data": {
            "text/plain": [
              "{1: [71, 11], 2: [22, 22, 2], 3: [3]}"
            ]
          },
          "metadata": {},
          "execution_count": 27
        }
      ]
    },
    {
      "cell_type": "code",
      "source": [
        "'''\n",
        "#4 day :\n",
        "'''"
      ],
      "metadata": {
        "id": "8KmoW69kY08W"
      },
      "execution_count": null,
      "outputs": []
    }
  ]
}